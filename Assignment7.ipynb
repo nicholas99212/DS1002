{
  "nbformat": 4,
  "nbformat_minor": 0,
  "metadata": {
    "colab": {
      "provenance": [],
      "authorship_tag": "ABX9TyNnAguF9NtvBi30a3VpXDst",
      "include_colab_link": true
    },
    "kernelspec": {
      "name": "python3",
      "display_name": "Python 3"
    },
    "language_info": {
      "name": "python"
    }
  },
  "cells": [
    {
      "cell_type": "markdown",
      "metadata": {
        "id": "view-in-github",
        "colab_type": "text"
      },
      "source": [
        "<a href=\"https://colab.research.google.com/github/nicholas99212/DS1002/blob/main/Assignment7.ipynb\" target=\"_parent\"><img src=\"https://colab.research.google.com/assets/colab-badge.svg\" alt=\"Open In Colab\"/></a>"
      ]
    },
    {
      "cell_type": "code",
      "execution_count": 1,
      "metadata": {
        "id": "38YzVR50HCsQ"
      },
      "outputs": [],
      "source": [
        "import pandas as pd  # Importing relevant package\n",
        "data = pd.read_csv('https://ds1002-resources.s3.amazonaws.com/data/ride_sharing.csv') # Importing data using pd.read_csv command\n"
      ]
    },
    {
      "cell_type": "code",
      "source": [
        "data.shape # Shows rows and columns (25760 rows, 10 columns)"
      ],
      "metadata": {
        "colab": {
          "base_uri": "https://localhost:8080/"
        },
        "id": "LvOoEutdIP92",
        "outputId": "032f0b1e-1a94-4ae3-f592-90566b25bb6a"
      },
      "execution_count": 2,
      "outputs": [
        {
          "output_type": "execute_result",
          "data": {
            "text/plain": [
              "(25760, 10)"
            ]
          },
          "metadata": {},
          "execution_count": 2
        }
      ]
    },
    {
      "cell_type": "code",
      "source": [
        "data['duration'] = data['duration'].str.strip('minutes') # takes 'duration' column and strips 'minutes' from the data entries.\n",
        "data['duration'] = data['duration'].astype('int') # takes 'duration' column and turns data into integers"
      ],
      "metadata": {
        "id": "wM3IdF4bIrTd"
      },
      "execution_count": 3,
      "outputs": []
    },
    {
      "cell_type": "code",
      "source": [
        "data.dtypes # Shows updated datatypes"
      ],
      "metadata": {
        "colab": {
          "base_uri": "https://localhost:8080/"
        },
        "id": "t0lmv8V8KyFq",
        "outputId": "dbcdced3-7d31-4375-ad54-a2e715e6b063"
      },
      "execution_count": 4,
      "outputs": [
        {
          "output_type": "execute_result",
          "data": {
            "text/plain": [
              "duration            int64\n",
              "station_A_id        int64\n",
              "station_A_name     object\n",
              "station_B_id        int64\n",
              "station_B_name     object\n",
              "bike_id             int64\n",
              "user_type           int64\n",
              "user_birth_year     int64\n",
              "user_gender        object\n",
              "tire_size           int64\n",
              "dtype: object"
            ]
          },
          "metadata": {},
          "execution_count": 4
        }
      ]
    },
    {
      "cell_type": "code",
      "source": [
        "print(data.duration.min()) # Prints minimum value of duration\n",
        "print(data.duration.max()) # Prints maximum value of duration"
      ],
      "metadata": {
        "colab": {
          "base_uri": "https://localhost:8080/"
        },
        "id": "fZ4NKubNMzxl",
        "outputId": "60f423ba-2df6-4420-991f-49caad50ff50"
      },
      "execution_count": 5,
      "outputs": [
        {
          "output_type": "stream",
          "name": "stdout",
          "text": [
            "1\n",
            "1372\n"
          ]
        }
      ]
    },
    {
      "cell_type": "code",
      "source": [
        "df = data.query('duration <= 60') # Creates new dataframe, df, that only includes rides that are less than 60 minutes. .query() command used to sort duration column."
      ],
      "metadata": {
        "id": "52is7HtWOUmQ"
      },
      "execution_count": 6,
      "outputs": []
    },
    {
      "cell_type": "code",
      "source": [
        "print(df.duration.min())\n",
        "print(df.duration.max())\n",
        "# New minimum and maximum values of duration for df dataset"
      ],
      "metadata": {
        "colab": {
          "base_uri": "https://localhost:8080/"
        },
        "id": "xFy0LMkNQbMa",
        "outputId": "013201a2-2b45-4030-f2da-b30cc0c3a47c"
      },
      "execution_count": 7,
      "outputs": [
        {
          "output_type": "stream",
          "name": "stdout",
          "text": [
            "1\n",
            "60\n"
          ]
        }
      ]
    },
    {
      "cell_type": "code",
      "source": [
        "df = df.query('tire_size == 26') # Updates df dataframe, sorting if tire_size is 26. Still maintains previous condition of sorting for rides less than 60 minutes"
      ],
      "metadata": {
        "id": "yJIRhPbzRI0_"
      },
      "execution_count": 8,
      "outputs": []
    },
    {
      "cell_type": "code",
      "source": [
        "df[df['user_gender'] == 'Female'].value_counts() # Uses value_counts() function to count how many rows in df with female riders. The tire size and duration restrictions are already included in the df dataframe from previous coding chunks.\n",
        "# Length = 2962 means that there are 2,962 female riders using the 26-inch wheeled rental bikes for an hour or less."
      ],
      "metadata": {
        "colab": {
          "base_uri": "https://localhost:8080/"
        },
        "id": "TIRlc25WRvdM",
        "outputId": "8eb44ee3-3f18-4ade-c218-7f47a265020f"
      },
      "execution_count": 9,
      "outputs": [
        {
          "output_type": "execute_result",
          "data": {
            "text/plain": [
              "duration  station_A_id  station_A_name                                    station_B_id  station_B_name                                      bike_id  user_type  user_birth_year  user_gender  tire_size\n",
              "1         3             Powell St BART Station (Market St at 4th St)      3             Powell St BART Station (Market St at 4th St)        2310     1          1998             Female       26           1\n",
              "12        81            Berry St at 4th St                                89            Division St at Potrero Ave                          4933     2          1990             Female       26           1\n",
              "                                                                          15            San Francisco Ferry Building (Harry Bridges Plaza)  5354     3          1981             Female       26           1\n",
              "                                                                          16            Steuart St at Market St                             2266     3          1990             Female       26           1\n",
              "                                                                          17            Embarcadero BART Station (Beale St at Market St)    2499     1          1983             Female       26           1\n",
              "                                                                                                                                                                                                          ..\n",
              "8         16            Steuart St at Market St                           6             The Embarcadero at Sansome St                       5275     2          1988             Female       26           1\n",
              "                                                                                                                                            5448     2          1988             Female       26           1\n",
              "                                                                          19            Post St at Kearny St                                1553     1          1991             Female       26           1\n",
              "                                                                          21            Montgomery St BART Station (Market St at 2nd St)    1543     2          2000             Female       26           1\n",
              "60        21            Montgomery St BART Station (Market St at 2nd St)  41            Golden Gate Ave at Polk St                          5069     1          1974             Female       26           1\n",
              "Length: 2962, dtype: int64"
            ]
          },
          "metadata": {},
          "execution_count": 9
        }
      ]
    },
    {
      "cell_type": "markdown",
      "source": [
        "2."
      ],
      "metadata": {
        "id": "mdsF2ipOUlvZ"
      }
    },
    {
      "cell_type": "code",
      "source": [
        "messydata = pd.read_csv('more-messy-data.csv') # loads 'more-messy-data' csv file\n",
        "messydata.duplicated().sum() # Gives a total of how many duplicated rows there are in messydata"
      ],
      "metadata": {
        "colab": {
          "base_uri": "https://localhost:8080/"
        },
        "id": "DbfJ1AuIUmhP",
        "outputId": "251424d8-abad-4bab-d368-fb821e1330bd"
      },
      "execution_count": 10,
      "outputs": [
        {
          "output_type": "execute_result",
          "data": {
            "text/plain": [
              "287"
            ]
          },
          "metadata": {},
          "execution_count": 10
        }
      ]
    },
    {
      "cell_type": "code",
      "source": [
        "messydata = messydata.drop_duplicates() # Updates messydata by dropping all duplicate rows"
      ],
      "metadata": {
        "id": "4is8uyurYfbS"
      },
      "execution_count": 11,
      "outputs": []
    },
    {
      "cell_type": "code",
      "source": [
        "print(messydata['petal_width'].isna().sum()) # Shows number of missing values in petal_width column\n",
        "messydata['petal_width'] = pd.to_numeric(messydata['petal_width'], errors = 'coerce') # Converts all non numeric values in petal_width to numeric values, converts any string values to nan by using 'errors = coerce'\n",
        "print(messydata['petal_width'].isna().sum())  # Shows new number of missing values after converting string values to numeric. This is necessary for the next lines of codes because those functions require numeric values\n",
        "\n",
        "\n",
        "messydata['sepal_length'] = messydata['sepal_length'].fillna(messydata['sepal_length'].mean()) # Fills all missing values in sepal_length column with the column mean.\n",
        "messydata['sepal_width'] = messydata['sepal_width'].fillna(messydata['sepal_width'].mean()) # Same as previous code but now for sepal_width instead of sepal_length\n",
        "messydata['petal_length'] = messydata['petal_length'].fillna(messydata['petal_length'].mean())\n",
        "messydata['petal_width'] = messydata['petal_width'].fillna(messydata['petal_width'].mean())\n",
        "\n"
      ],
      "metadata": {
        "colab": {
          "base_uri": "https://localhost:8080/"
        },
        "id": "6nSb9mdHZljV",
        "outputId": "9741c50a-8273-4967-c645-1a915101bbad"
      },
      "execution_count": 12,
      "outputs": [
        {
          "output_type": "stream",
          "name": "stdout",
          "text": [
            "81\n",
            "83\n"
          ]
        }
      ]
    },
    {
      "cell_type": "code",
      "source": [
        "print(messydata.isna().sum()) # Shows number of remaining missing values\n",
        "messydata = messydata.dropna() # Drops remaining missing values in messydata\n",
        "messydata.isna().sum() # Shows that there are no missing values now"
      ],
      "metadata": {
        "colab": {
          "base_uri": "https://localhost:8080/"
        },
        "id": "vnzS4zw2iPNE",
        "outputId": "a2ba9afd-e07d-4d97-b1fa-a4bcc011b90e"
      },
      "execution_count": 13,
      "outputs": [
        {
          "output_type": "stream",
          "name": "stdout",
          "text": [
            "id               0\n",
            "sepal_length     0\n",
            "sepal_width      0\n",
            "petal_length     0\n",
            "petal_width      0\n",
            "species         66\n",
            "dtype: int64\n"
          ]
        },
        {
          "output_type": "execute_result",
          "data": {
            "text/plain": [
              "id              0\n",
              "sepal_length    0\n",
              "sepal_width     0\n",
              "petal_length    0\n",
              "petal_width     0\n",
              "species         0\n",
              "dtype: int64"
            ]
          },
          "metadata": {},
          "execution_count": 13
        }
      ]
    },
    {
      "cell_type": "code",
      "source": [
        "print(messydata['species'].describe()) # Describes 'species' column. Unique = 10 means that there's 10 different species values\n",
        "messydata['species'].value_counts() # Shows the different values for species. This will be important for the mapping dictionary in next code chunk"
      ],
      "metadata": {
        "colab": {
          "base_uri": "https://localhost:8080/"
        },
        "id": "dqcyiTRWi9p6",
        "outputId": "7e792b4e-c564-4a37-82d4-539ba540f09f"
      },
      "execution_count": 14,
      "outputs": [
        {
          "output_type": "stream",
          "name": "stdout",
          "text": [
            "count        963\n",
            "unique        10\n",
            "top       setosa\n",
            "freq         481\n",
            "Name: species, dtype: object\n"
          ]
        },
        {
          "output_type": "execute_result",
          "data": {
            "text/plain": [
              "setosa        481\n",
              "virginica     444\n",
              "Versicolor     27\n",
              "setoso          2\n",
              "Virginia        2\n",
              "Virginica       2\n",
              "Setosa          2\n",
              "Viginica        1\n",
              "Setosan         1\n",
              "versicolor      1\n",
              "Name: species, dtype: int64"
            ]
          },
          "metadata": {},
          "execution_count": 14
        }
      ]
    },
    {
      "cell_type": "code",
      "source": [
        "mapping = {'setosa':'Setosa', 'setoso':'Setosa', 'Setosan':'Setosa', 'Setosa':'Setosa',\n",
        "           'virginica':'Virginica', 'Virginia':'Virginica','Virginica':'Virginica','Viginica':'Virginica',\n",
        "           'Versicolor':'Versicolor', 'versicolor':'Versicolor'} # Creates a dictionary assigning all the spelling variations of setosa, virginica, and versicolor in messydata to one of these three species names\n",
        "messydata['species'] = messydata['species'].replace(mapping) # Replaces values in the species column with the 'mapping' dictionary\n",
        "messydata['species'].describe() # Describes updated values for 'species' columns. Now only 3 unique values"
      ],
      "metadata": {
        "colab": {
          "base_uri": "https://localhost:8080/"
        },
        "id": "Cg4HTyFYjV4A",
        "outputId": "6e2b2741-1aa2-4822-edfa-9f11a4ff5a4c"
      },
      "execution_count": 15,
      "outputs": [
        {
          "output_type": "stream",
          "name": "stderr",
          "text": [
            "<ipython-input-15-b3f67645744a>:4: SettingWithCopyWarning: \n",
            "A value is trying to be set on a copy of a slice from a DataFrame.\n",
            "Try using .loc[row_indexer,col_indexer] = value instead\n",
            "\n",
            "See the caveats in the documentation: https://pandas.pydata.org/pandas-docs/stable/user_guide/indexing.html#returning-a-view-versus-a-copy\n",
            "  messydata['species'] = messydata['species'].replace(mapping) # Replaces values in the species column with the 'mapping' dictionary\n"
          ]
        },
        {
          "output_type": "execute_result",
          "data": {
            "text/plain": [
              "count        963\n",
              "unique         3\n",
              "top       Setosa\n",
              "freq         486\n",
              "Name: species, dtype: object"
            ]
          },
          "metadata": {},
          "execution_count": 15
        }
      ]
    },
    {
      "cell_type": "markdown",
      "source": [
        "3. Bonus"
      ],
      "metadata": {
        "id": "zcjysPWp_sgK"
      }
    },
    {
      "cell_type": "markdown",
      "source": [
        "FPV9824"
      ],
      "metadata": {
        "id": "oiW8gAwgB7b0"
      }
    },
    {
      "cell_type": "code",
      "source": [
        "import re # imports relevant package\n",
        "\n",
        "valid_plate = \"^([A-Z]{3}[0-9]{4})$\"\n",
        "# Valid_plate represents any possible plate number given the restrictions. the '^([A-Z]{3}' means that the start of the string ('^') must have 3 capitalized letters between A and Z\n",
        "# }[0-9]{4})$\" means that the end of the string ('$') must have 4 numbers between 0 and 9.\n",
        "test_list = ['FPV9824', 'AVCD904', 'A1B2C34', '1234ABC','PLR9043','abc1234','^&ABC1234'] # Creating a test list with various valid and invalid license plate numbers\n",
        "\n",
        "for word in test_list: # For loop for each piece of data in test_list\n",
        "  if re.match(valid_plate, word): # Tests using re.match command if the entry in test_list is a valid match with valid_plate\n",
        "    print(word + ' is a match!') # If the entry is a match this will be printed\n",
        "  else:\n",
        "    print(word + ' is not a match') # If the entry is not a match then this will be printed\n"
      ],
      "metadata": {
        "colab": {
          "base_uri": "https://localhost:8080/"
        },
        "id": "9-iut44qmcxR",
        "outputId": "1db0a172-4d81-4a3e-bcf7-949496945a09"
      },
      "execution_count": 16,
      "outputs": [
        {
          "output_type": "stream",
          "name": "stdout",
          "text": [
            "FPV9824 is a match!\n",
            "AVCD904 is not a match\n",
            "A1B2C34 is not a match\n",
            "1234ABC is not a match\n",
            "PLR9043 is a match!\n",
            "abc1234 is not a match\n",
            "^&ABC1234 is not a match\n"
          ]
        }
      ]
    }
  ]
}