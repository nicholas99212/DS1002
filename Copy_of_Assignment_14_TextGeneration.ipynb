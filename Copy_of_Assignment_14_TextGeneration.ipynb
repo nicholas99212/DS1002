{
  "nbformat": 4,
  "nbformat_minor": 0,
  "metadata": {
    "colab": {
      "provenance": [],
      "include_colab_link": true
    },
    "kernelspec": {
      "name": "python3",
      "display_name": "Python 3"
    },
    "language_info": {
      "name": "python"
    }
  },
  "cells": [
    {
      "cell_type": "markdown",
      "metadata": {
        "id": "view-in-github",
        "colab_type": "text"
      },
      "source": [
        "<a href=\"https://colab.research.google.com/github/nicholas99212/DS1002/blob/main/Copy_of_Assignment_14_TextGeneration.ipynb\" target=\"_parent\"><img src=\"https://colab.research.google.com/assets/colab-badge.svg\" alt=\"Open In Colab\"/></a>"
      ]
    },
    {
      "cell_type": "markdown",
      "source": [
        "## Final homework assignment:  generating text from a corpus\n",
        "\n",
        "Due Friday 3 May at 5 pm"
      ],
      "metadata": {
        "id": "tWbrZqoW5281"
      }
    },
    {
      "cell_type": "markdown",
      "source": [
        "We begin by loading all of Shakespeare's plays into a text file, and separating them into individual words.  This is made easy by the fact that someone already made a giant text file of these plays for us, and put it online.\n",
        "\n",
        "[Note that by changing the url in the following code chunk, you can load any text file that lives online in this way . . . see below.]\n",
        "\n",
        "Run the following code.  It should output a list of ten words, starting with 'From' and ending with 'rose'."
      ],
      "metadata": {
        "id": "7tMMjgkjF7gk"
      }
    },
    {
      "cell_type": "code",
      "source": [
        "from urllib.request import urlopen            #package for reading info from the web\n",
        "url='https://ocw.mit.edu/ans7870/6/6.006/s08/lecturenotes/files/t8.shakespeare.txt'   #web address\n",
        "text = urlopen(url).read().decode('utf-8')    #open web address, read file, convert to text\n",
        "shakespeare_words=text.split()[1651:]         #split text into words (not including preamble)\n",
        "shakespeare_words[:10]                        #display the first 10 words"
      ],
      "metadata": {
        "id": "PoW71ljm2GS-",
        "colab": {
          "base_uri": "https://localhost:8080/"
        },
        "outputId": "38288cf2-1f01-411c-be34-04baa0453b02"
      },
      "execution_count": 1,
      "outputs": [
        {
          "output_type": "execute_result",
          "data": {
            "text/plain": [
              "['From',\n",
              " 'fairest',\n",
              " 'creatures',\n",
              " 'we',\n",
              " 'desire',\n",
              " 'increase,',\n",
              " 'That',\n",
              " 'thereby',\n",
              " \"beauty's\",\n",
              " 'rose']"
            ]
          },
          "metadata": {},
          "execution_count": 1
        }
      ]
    },
    {
      "cell_type": "markdown",
      "source": [
        "## 1. `nextwords` practice\n",
        "\n",
        "Create a practice function called `createNextwordsPractice` which takes a list of words called `wordlist` and returns a dictionary called `nextwordsPractice`. The keys of `nextwordsPractice` should be all the words in `wordlist`, and the value for any given key should be a list of all the words that follow the key word somewhere in the original `wordlist`.\n",
        "\n"
      ],
      "metadata": {
        "id": "AIeohQaAHRF8"
      }
    },
    {
      "cell_type": "code",
      "source": [
        "def createNextwordsPractice(wordlist): # Defines function\n",
        "  nextwordsPractice = {} # Creates a blank dictionary\n",
        "  for i in range(len(wordlist)-1): # loops through the length of wordlist - 1, due to wordlist[i+1] the for loop needs to finish on the penultimate word in the list\n",
        "    current = wordlist[i] # Defines the current word as i\n",
        "    next = wordlist[i+1] # Defines the next word as i+1\n",
        "    if current in nextwordsPractice: # If current word is in the dictionary, appended with its next word\n",
        "      nextwordsPractice[current].append(next)\n",
        "    else: # If current word isn't in the dictionary yet, a new key is created for the current word that includes its next word\n",
        "      nextwordsPractice[current] = [next]\n",
        "  return nextwordsPractice # Complete dictionary returned"
      ],
      "metadata": {
        "id": "2XZa2K3C3InW"
      },
      "execution_count": 2,
      "outputs": []
    },
    {
      "cell_type": "markdown",
      "source": [
        "Run the following code:"
      ],
      "metadata": {
        "id": "FH3N2raWjtfd"
      }
    },
    {
      "cell_type": "code",
      "source": [
        "practice = createNextwordsPractice(shakespeare_words) # Runs function on shakespeare_words\n",
        "practice['From'] # Runs function on a specific word"
      ],
      "metadata": {
        "id": "P3M8beYAjiie",
        "colab": {
          "base_uri": "https://localhost:8080/"
        },
        "outputId": "92dff28c-e29a-4766-d204-dac140c3d9a7"
      },
      "execution_count": 3,
      "outputs": [
        {
          "output_type": "execute_result",
          "data": {
            "text/plain": [
              "['fairest',\n",
              " 'his',\n",
              " 'sullen',\n",
              " 'limits',\n",
              " 'hands',\n",
              " 'whence',\n",
              " 'where',\n",
              " 'me',\n",
              " 'this',\n",
              " 'thy',\n",
              " 'hence',\n",
              " 'thee,',\n",
              " 'you',\n",
              " 'heaven',\n",
              " 'her',\n",
              " 'simple',\n",
              " 'whence',\n",
              " 'below',\n",
              " 'lowest',\n",
              " 'courtly',\n",
              " 'son',\n",
              " 'the',\n",
              " 'the',\n",
              " 'Sicyon,',\n",
              " 'Alexandria',\n",
              " 'Silvius,',\n",
              " 'mine',\n",
              " 'the',\n",
              " 'firm',\n",
              " 'Egypt',\n",
              " 'Antony',\n",
              " 'thine',\n",
              " 'that',\n",
              " 'my',\n",
              " 'me',\n",
              " 'henceforth',\n",
              " 'tyrant',\n",
              " 'seventeen',\n",
              " 'miserable',\n",
              " 'whom',\n",
              " 'my',\n",
              " 'whence,',\n",
              " 'me',\n",
              " 'me',\n",
              " 'slaves',\n",
              " 'every',\n",
              " 'rascals',\n",
              " 'whom',\n",
              " 'where',\n",
              " \"th'\",\n",
              " 'Rome',\n",
              " 'off',\n",
              " 'these',\n",
              " 'twelve',\n",
              " \"th'\",\n",
              " 'whence?',\n",
              " 'Rome.',\n",
              " 'thy',\n",
              " 'Gallia',\n",
              " 'fairies',\n",
              " 'off',\n",
              " \"th'\",\n",
              " 'most',\n",
              " 'thy',\n",
              " 'youth',\n",
              " 'every',\n",
              " 'whose',\n",
              " 'so',\n",
              " 'one',\n",
              " 'this',\n",
              " 'the',\n",
              " 'east',\n",
              " 'action',\n",
              " 'my',\n",
              " 'this',\n",
              " 'Leonati',\n",
              " 'her',\n",
              " 'chance',\n",
              " 'south',\n",
              " 'our',\n",
              " 'whence',\n",
              " 'the',\n",
              " 'top',\n",
              " 'this',\n",
              " 'our',\n",
              " 'that',\n",
              " 'me,',\n",
              " 'fashion',\n",
              " 'the',\n",
              " 'another',\n",
              " 'Hamlet?',\n",
              " 'whence',\n",
              " 'whom',\n",
              " \"Rumour's\",\n",
              " 'whence',\n",
              " 'the',\n",
              " 'a',\n",
              " 'a',\n",
              " 'enemies',\n",
              " 'every',\n",
              " 'this',\n",
              " 'the',\n",
              " 'open',\n",
              " 'whom',\n",
              " \"glist'ring\",\n",
              " 'our',\n",
              " 'him,',\n",
              " 'his',\n",
              " 'him,',\n",
              " 'camp',\n",
              " 'this',\n",
              " 'off',\n",
              " 'helmet',\n",
              " 'him',\n",
              " 'off',\n",
              " 'Lionel',\n",
              " 'John',\n",
              " 'famous',\n",
              " 'envious',\n",
              " 'whence',\n",
              " 'thence',\n",
              " 'bought',\n",
              " 'thee,',\n",
              " 'top',\n",
              " 'thence',\n",
              " 'meaning',\n",
              " \"treason's\",\n",
              " 'such',\n",
              " 'thee',\n",
              " 'Ireland',\n",
              " \"Clifford's\",\n",
              " 'your',\n",
              " 'London',\n",
              " 'whence',\n",
              " 'off',\n",
              " 'whence',\n",
              " 'Scotland',\n",
              " 'such',\n",
              " 'worthy',\n",
              " 'these',\n",
              " 'giving',\n",
              " 'France?',\n",
              " 'Ravenspurgh',\n",
              " 'shelves',\n",
              " 'those',\n",
              " 'his',\n",
              " 'sincere',\n",
              " 'every',\n",
              " 'foreign',\n",
              " 'princes',\n",
              " 'these',\n",
              " 'any',\n",
              " 'Ampthill,',\n",
              " 'your',\n",
              " 'hence',\n",
              " 'her',\n",
              " 'henceforth',\n",
              " 'France',\n",
              " 'whom',\n",
              " 'that',\n",
              " 'first',\n",
              " 'north',\n",
              " 'all',\n",
              " 'a',\n",
              " 'his',\n",
              " 'France',\n",
              " 'forth',\n",
              " 'whose',\n",
              " 'forth',\n",
              " 'this',\n",
              " 'out',\n",
              " 'forth',\n",
              " 'that',\n",
              " 'the',\n",
              " 'which',\n",
              " 'whom',\n",
              " 'what',\n",
              " 'the',\n",
              " 'hence',\n",
              " 'this',\n",
              " 'Goneril',\n",
              " 'those',\n",
              " 'seasons',\n",
              " 'that',\n",
              " 'her',\n",
              " 'the',\n",
              " 'a',\n",
              " 'tawny',\n",
              " \"reason's\",\n",
              " 'my',\n",
              " 'which',\n",
              " 'my',\n",
              " 'the',\n",
              " \"women's\",\n",
              " 'whence',\n",
              " \"women's\",\n",
              " 'morn',\n",
              " 'what',\n",
              " 'Fife,',\n",
              " 'hence',\n",
              " 'this',\n",
              " 'thence',\n",
              " 'whom',\n",
              " 'the',\n",
              " 'this',\n",
              " 'whence',\n",
              " 'what',\n",
              " 'over-credulous',\n",
              " 'which',\n",
              " 'too',\n",
              " 'whom',\n",
              " 'his',\n",
              " 'fasting',\n",
              " 'thee;',\n",
              " \"flow'ry\",\n",
              " 'thine',\n",
              " 'such',\n",
              " 'our',\n",
              " 'such',\n",
              " 'the',\n",
              " 'the',\n",
              " 'whom',\n",
              " 'Tripolis,',\n",
              " 'Lisbon,',\n",
              " 'out',\n",
              " 'any',\n",
              " 'brassy',\n",
              " 'stubborn',\n",
              " 'both,',\n",
              " 'the',\n",
              " 'the',\n",
              " 'time',\n",
              " 'Athens',\n",
              " \"lovers'\",\n",
              " 'Perigouna,',\n",
              " 'our',\n",
              " 'sleeping',\n",
              " \"monster's\",\n",
              " 'these',\n",
              " 'off',\n",
              " 'the',\n",
              " 'my',\n",
              " 'Claudio,',\n",
              " 'men',\n",
              " 'year',\n",
              " 'her',\n",
              " 'him',\n",
              " 'one',\n",
              " 'jealousy!',\n",
              " 'whence',\n",
              " 'the',\n",
              " 'any',\n",
              " 'the',\n",
              " 'this',\n",
              " 'giving',\n",
              " 'where',\n",
              " 'forth',\n",
              " 'some',\n",
              " 'Ravenspurgh',\n",
              " 'the',\n",
              " 'forth',\n",
              " 'off',\n",
              " 'my',\n",
              " \"Richard's\",\n",
              " 'out',\n",
              " 'sun',\n",
              " \"plume-pluck'd\",\n",
              " 'which',\n",
              " 'whence',\n",
              " 'your',\n",
              " 'whence',\n",
              " 'cold',\n",
              " 'wayward',\n",
              " 'that',\n",
              " 'this',\n",
              " 'my',\n",
              " 'the',\n",
              " 'all',\n",
              " 'forth',\n",
              " 'which',\n",
              " 'all',\n",
              " 'Tamworth',\n",
              " 'the',\n",
              " 'ancient',\n",
              " 'forth',\n",
              " \"Love's\",\n",
              " 'forth',\n",
              " 'off',\n",
              " 'this',\n",
              " 'all',\n",
              " 'Florence,',\n",
              " 'mine',\n",
              " 'the',\n",
              " 'what',\n",
              " 'me,',\n",
              " 'bogs,',\n",
              " 'me',\n",
              " 'Milan',\n",
              " 'toe',\n",
              " 'eaves',\n",
              " 'strange',\n",
              " 'whence',\n",
              " 'Isidore:',\n",
              " 'our',\n",
              " 'forth',\n",
              " 'change',\n",
              " \"gen'ral\",\n",
              " 'high',\n",
              " 'Alcibiades',\n",
              " 'niggard',\n",
              " 'weary',\n",
              " 'where',\n",
              " 'whence',\n",
              " 'this',\n",
              " 'these',\n",
              " 'thousand',\n",
              " 'heaven!',\n",
              " 'isles',\n",
              " 'his',\n",
              " 'Troy.',\n",
              " \"Cupid's\",\n",
              " 'false',\n",
              " 'certain',\n",
              " 'Troy',\n",
              " 'heart',\n",
              " 'whence,',\n",
              " 'my',\n",
              " 'the',\n",
              " 'the',\n",
              " 'my',\n",
              " 'a',\n",
              " 'hence,',\n",
              " 'Milan.',\n",
              " 'whom?',\n",
              " 'my',\n",
              " 'heartiness,',\n",
              " 'east,',\n",
              " 'course',\n",
              " 'him',\n",
              " 'our',\n",
              " 'all',\n",
              " 'your',\n",
              " 'those',\n",
              " 'the',\n",
              " \"Dis's\",\n",
              " 'the',\n",
              " 'my',\n",
              " 'thy',\n",
              " 'off']"
            ]
          },
          "metadata": {},
          "execution_count": 3
        }
      ]
    },
    {
      "cell_type": "code",
      "source": [
        "practice['rose']"
      ],
      "metadata": {
        "id": "W5FCOXElICLb",
        "colab": {
          "base_uri": "https://localhost:8080/"
        },
        "outputId": "9c50d5a5-3663-4b61-fb49-611a46dbc7e2"
      },
      "execution_count": 4,
      "outputs": [
        {
          "output_type": "execute_result",
          "data": {
            "text/plain": [
              "['might',\n",
              " 'looks',\n",
              " 'is',\n",
              " 'of',\n",
              " 'Of',\n",
              " 'may',\n",
              " 'will',\n",
              " 'of',\n",
              " 'From',\n",
              " 'and',\n",
              " 'of',\n",
              " 'both',\n",
              " 'with',\n",
              " 'from',\n",
              " 'with',\n",
              " 'with',\n",
              " 'side.',\n",
              " 'red,',\n",
              " 'too.',\n",
              " 'in',\n",
              " 'a',\n",
              " 'a',\n",
              " 'I',\n",
              " 'against',\n",
              " 'that',\n",
              " 'and',\n",
              " 'from',\n",
              " 'again,',\n",
              " 'Lest',\n",
              " 'against',\n",
              " 'Than',\n",
              " \"distill'd\",\n",
              " 'on',\n",
              " 'up',\n",
              " 'in',\n",
              " 'wither.',\n",
              " 'and',\n",
              " 'By',\n",
              " 'again?',\n",
              " 'he']"
            ]
          },
          "metadata": {},
          "execution_count": 4
        }
      ]
    },
    {
      "cell_type": "code",
      "source": [
        "practice['rose.']"
      ],
      "metadata": {
        "id": "Vr57wNx5BO4K",
        "colab": {
          "base_uri": "https://localhost:8080/"
        },
        "outputId": "ad5793f5-af00-4190-aa10-ac2f52ec5916"
      },
      "execution_count": 5,
      "outputs": [
        {
          "output_type": "execute_result",
          "data": {
            "text/plain": [
              "['It']"
            ]
          },
          "metadata": {},
          "execution_count": 5
        }
      ]
    },
    {
      "cell_type": "markdown",
      "source": [
        "## 2. `nextwords` for real:  new sentences.\n",
        "\n",
        "Next, write a new function called `createNextwords` which takes a `wordlist` and returns a dictionary of `nextwords`, but now with a new additional feature.  \n",
        "In addition to the keys from problem 1, add a special key to the dictionary, which will be the symbol '%'.  This key will signify the first word of a sentence. When scanning the wordlist to construct the `nextwords` dictionary, normally you would add `wordlist[i+1]` to the list `nextwords[wordlist[i]]`. However, if `wordlist[i]` ends with a period, then you should instead add `wordlist[i+1]` to the list nextwords['%']. Also add the very first word of `wordlist` to nextwords['%'].\n",
        "\n",
        "\n",
        "You should be able to produce this output:\n",
        "```\n",
        "> shakespeare_nextwords=createNextwords(shakespeare_words)\n",
        "> shakespeare_nextwords['Rose']\n",
        "['at', 'or', 'or', 'and']\n",
        "\n",
        "> shakespeare_nextwords['rose.']\n",
        "[]\n",
        "\n",
        "> len(shakespeare_nextwords['%'])\n",
        "76543\n",
        "```"
      ],
      "metadata": {
        "id": "t221x1X3iRVA"
      }
    },
    {
      "cell_type": "code",
      "source": [
        "def createNextwords(wordlist): # Defines function\n",
        "  nextwords = {} # Creates a blank dictionary\n",
        "  nextwords['%'] = [] # Creates a blank key pairing for '%'\n",
        "  nextwords['%'].append(wordlist[0]) # First word from list appended to the key pairing\n",
        "  for i in range(len(wordlist)-1): # Loops through the length of wordlist-1\n",
        "    current = wordlist[i] # current word set to i iteration\n",
        "    next = wordlist[i+1]  # next word set to i+1 iteration\n",
        "    if current.endswith('.'): # If current words ends in a period, the % key pairing is appended with the following next word\n",
        "      nextwords['%'].append(next)\n",
        "    elif current in nextwords: # Rest of function same as previous function\n",
        "      nextwords[current].append(next)\n",
        "    else:\n",
        "      nextwords[current] = [next]\n",
        "  return nextwords"
      ],
      "metadata": {
        "id": "Ze_-Uv2alRWX"
      },
      "execution_count": 6,
      "outputs": []
    },
    {
      "cell_type": "markdown",
      "source": [
        "Run the following code:"
      ],
      "metadata": {
        "id": "x7bamoxBlX6Q"
      }
    },
    {
      "cell_type": "code",
      "source": [
        "shakespeare_nextwords = createNextwords(shakespeare_words)\n",
        "\n",
        "print(shakespeare_nextwords['Rose'])\n",
        "print(len(shakespeare_nextwords['%'])) # Shows how many words start a sentence in the play"
      ],
      "metadata": {
        "id": "xv4ANlzvlZ2e",
        "colab": {
          "base_uri": "https://localhost:8080/"
        },
        "outputId": "9fb8d279-30f9-4178-a4b6-72f82d4428d5"
      },
      "execution_count": 7,
      "outputs": [
        {
          "output_type": "stream",
          "name": "stdout",
          "text": [
            "['at', 'or', 'or', 'and']\n",
            "76543\n"
          ]
        }
      ]
    },
    {
      "cell_type": "code",
      "source": [
        "print(len(shakespeare_nextwords['rose'])) # Shows how many words follow 'rose'"
      ],
      "metadata": {
        "id": "NsLW7PYYCj1r",
        "colab": {
          "base_uri": "https://localhost:8080/"
        },
        "outputId": "77bc18bc-c782-43b3-da21-36a037d1a27f"
      },
      "execution_count": 8,
      "outputs": [
        {
          "output_type": "stream",
          "name": "stdout",
          "text": [
            "40\n"
          ]
        }
      ]
    },
    {
      "cell_type": "code",
      "source": [
        "print(shakespeare_nextwords['rose.']) # Creates an error because the key pairing is blank. All the words that follow 'rose.' are in the '%' key pairing"
      ],
      "metadata": {
        "id": "NyjLxUKiIPqG",
        "colab": {
          "base_uri": "https://localhost:8080/",
          "height": 162
        },
        "outputId": "993bfbde-af53-4911-c480-930274fa3c47"
      },
      "execution_count": 9,
      "outputs": [
        {
          "output_type": "error",
          "ename": "KeyError",
          "evalue": "'rose.'",
          "traceback": [
            "\u001b[0;31m---------------------------------------------------------------------------\u001b[0m",
            "\u001b[0;31mKeyError\u001b[0m                                  Traceback (most recent call last)",
            "\u001b[0;32m<ipython-input-9-923bcd65ff86>\u001b[0m in \u001b[0;36m<cell line: 1>\u001b[0;34m()\u001b[0m\n\u001b[0;32m----> 1\u001b[0;31m \u001b[0mprint\u001b[0m\u001b[0;34m(\u001b[0m\u001b[0mshakespeare_nextwords\u001b[0m\u001b[0;34m[\u001b[0m\u001b[0;34m'rose.'\u001b[0m\u001b[0;34m]\u001b[0m\u001b[0;34m)\u001b[0m \u001b[0;31m# Creates an error because the key pairing is blank. All the words that follow 'rose.' are in the '%' key pairing\u001b[0m\u001b[0;34m\u001b[0m\u001b[0;34m\u001b[0m\u001b[0m\n\u001b[0m",
            "\u001b[0;31mKeyError\u001b[0m: 'rose.'"
          ]
        }
      ]
    },
    {
      "cell_type": "markdown",
      "source": [
        "## 3.  Make your own Shakespeare play\n",
        "\n",
        "Okay, that may be a bit of an exaggeration.  Anyway, next up is text generation.  \n",
        "We'll need the choice function:"
      ],
      "metadata": {
        "id": "BCIAfYSIX3VC"
      }
    },
    {
      "cell_type": "code",
      "source": [
        "from random import choice # Imports relevant package"
      ],
      "metadata": {
        "id": "rbBHDv55Biae"
      },
      "execution_count": 10,
      "outputs": []
    },
    {
      "cell_type": "markdown",
      "source": [
        "This function chooses a random element from a list.  Run this code a few times:"
      ],
      "metadata": {
        "id": "-vCM3Z0BmAw9"
      }
    },
    {
      "cell_type": "code",
      "source": [
        "choice([1, 17, 34, 289]) # Chooses randomly between 1, 17, 34, and 289"
      ],
      "metadata": {
        "colab": {
          "base_uri": "https://localhost:8080/"
        },
        "id": "FGMf-UmAl_uf",
        "outputId": "a12f06b9-05a9-41ec-976e-c663f9b94faa"
      },
      "execution_count": 12,
      "outputs": [
        {
          "output_type": "execute_result",
          "data": {
            "text/plain": [
              "1"
            ]
          },
          "metadata": {},
          "execution_count": 12
        }
      ]
    },
    {
      "cell_type": "markdown",
      "source": [
        "Now, create a function called `makePlay(nextwords,n)` which takes a dictionary `nextwords` and a number `n`, and follows these steps:\n",
        "1. Define an empty `newplay` string.  (I did this for you.)\n",
        "2. Set `currentword` equal to '%'.\n",
        "3. Start a for-loop that will run `n` times.\n",
        "4. Randomly choose a word from the list `nextwords[currentword]`.\n",
        "5. Add the chosen word to `newplay`, followed by a space `' '` character.\n",
        "6. If the chosen word ends in a period, add a newline character '\\n' and set `currentword` equal to `%`.\n",
        "7. Otherwise, set `currentword` equal to the chosen word.\n",
        "8. Go back to step 4.\n",
        "9. When all `n` iterations have finished, your function should return `newplay`."
      ],
      "metadata": {
        "id": "ZmLqxclQYMpl"
      }
    },
    {
      "cell_type": "code",
      "source": [
        "def makePlay(nextwords,n): # Defines function\n",
        "  newplay='' # Creates a blank newplay string\n",
        "  current = '%' # Sets current word equal to '%' so that the play will start off with a word from the beginning of a sentence in the txt file\n",
        "  for i in range(n): # Loops through range n\n",
        "    new = choice(nextwords[current]) # New word set to a random choice of nextwords[current]\n",
        "    newplay += new + ' ' # += used because newplay is a string. The new word is added the newplay as well as a space character\n",
        "    if new.endswith('.'): # if new word ends with a period, a newline is added to newplay using \\n. current word is set to '%' so that the next line will start with a word that is from the beginning of a sentence from txt file\n",
        "      newplay += '\\n'\n",
        "      current = '%'\n",
        "    else: # If the new word doesn't end with a period, then current word is set to new word to be looped over\n",
        "      current = new\n",
        "  return newplay\n"
      ],
      "metadata": {
        "id": "gMxDF-MiYqD2"
      },
      "execution_count": 13,
      "outputs": []
    },
    {
      "cell_type": "markdown",
      "source": [
        "Now create a 1000 word Shakesperian play by running the following code:"
      ],
      "metadata": {
        "id": "v_uCxqDZtuhP"
      }
    },
    {
      "cell_type": "code",
      "source": [
        "nextwords=createNextwords(shakespeare_words) # Calls createNextwords to create a dictionary of next words from shakespeare_words\n",
        "newplay=makePlay(nextwords,1000) # Creates a 1000 word play using using nextwords\n",
        "print(newplay) # Prints play"
      ],
      "metadata": {
        "id": "KVtzPXWWEdDR",
        "colab": {
          "base_uri": "https://localhost:8080/"
        },
        "outputId": "f0a6646b-f207-47ab-eca2-e6393c94f85a"
      },
      "execution_count": 14,
      "outputs": [
        {
          "output_type": "stream",
          "name": "stdout",
          "text": [
            "There was Shall this knave That shall get thee to clay, Do you made me in promise, I must hang me would have a better dog. \n",
            "IAGO. \n",
            "Are you are the King's forces. \n",
            "Say that he'll stand to my master loves to offer it; He hath out-craftied him, so proceed in, And hold Of Edward from labouring: thou not his son, a fool again! I'll like stars, I shall want of the shouting plebeians; Follow Cominius; we will still thy love, nothing by the foeman may I must of an hour it on his man an instant way of Troy burns, fiends roar, and Edmund. \n",
            "SECOND MURTHERER. \n",
            "What will hold the idiots in a fool hangs both these But passion at such exercises as that suffice thee, By the bud of Illyria. \n",
            "Take my treason; and thy advice; For goodness' sake, by th' table, with the answer you: that she would deny, If not find me for my only hear this month? Prince. \n",
            "GLOUCESTER. \n",
            "Who dares, being at me bail these movers that I was outrun on now, no more piercing talons; So Follow'd my pocket, sir, is invented on the tuned now! who the Senate hath out-villain'd villainy abroad; this fardel there? Sure there's her hands which we have not conscience and unfashionable That thou, Kate? I am not me- 'twas Leonatus' false. \n",
            "So I met him and hungry lean-fac'd villain, drawn in this? TRANIO. \n",
            "Then swear Upon this plain, I'll tell you to such wrongs I have kept festival. \n",
            "To signify th' accustom'd diligence be brain'd my hands. \n",
            "Hang'd! by'r lady, do meet To use Desdemona A piece of grief. \n",
            "CLEOPATRA. \n",
            "Flourish. \n",
            "Madam, I will please his grain, And my lips on your leave; for they account them As I know the bag of quality- O my daughter Anne- Why, she shall be a power Hath given to his treasure after; do you bold oxlips, and odd years many dearer, Yet will break; And she, that mine that's for all swearing 'Lay by,' and I say! FALSTAFF. \n",
            "YORK. \n",
            "Call forth the sceptre? FIRST WITCH. \n",
            "LUCETTA. \n",
            "The one hour ten. \n",
            "Come, will on. \n",
            "Who can we after seem like to return rebuked to those logs the bullet, that's a man; go! My endeavours, and lightning, the liberty than mine opinion, who comes she after, meet him hither, fellow; young, wise, or stir hither, If she hath her father, being blind, For taking bribes here even his files As Nature in love you. \n",
            "To try this dagger. \n",
            "Wherefore weep to make fools are you to't. \n",
            "But, hit it me- over with thee! Kent. \n",
            "DUCHESS. \n",
            "CORIOLANUS. \n",
            "It cannot think 'tis true blank of the seas. \n",
            "The fouler than this paper; see lives, Master Doctor of him, He swung about an I do. \n",
            "I should be endur'd! Sirrah Costard. \n",
            "NORTHUMBERLAND. \n",
            "ADRIANA. \n",
            "There's for bread? I do from your gravity to tell my anger. \n",
            "KING PHILIP. \n",
            "He never able to say. \n",
            "I have old arms and wonder. \n",
            "I'll have said he be my child but Obedience; for certain players are gone to me. \n",
            "So please you shall we mean you all! VINCENTIO. \n",
            "'Cast thy vaunting veins; And find some great natural I was said. \n",
            "Here is wedlock bands. \n",
            "Grant I am vanquished by the most noble fortunes. \n",
            "Ay, boy. \n",
            "MARCUS. \n",
            "YORK. \n",
            "O, had like you fair. \n",
            "OBERON. \n",
            "I prithee, Lucio, did his knell unto us, like his files As those he not say how much hazard From which shall be weighed rather be wary. \n",
            "Let me In this fond on thyself good. \n",
            "And when it is made. \n",
            "PISTOL. \n",
            "You from our household's name, Master Slender would not know, What a thousand pound? EVANS. \n",
            "LEPIDUS. \n",
            "Good day to a crow together. \n",
            "How, out o' Gaunt, time-honoured Lancaster, I will be perform'd. \n",
            "Some dozen dang'rous words, Their pricks at stake. \n",
            "Why, give her furr'd gowns hide thee! MALVOLIO. \n",
            "Master, shall bow like that the battle straight. \n",
            "Take heed, honest hand fairly off than my regard, but unsuitable; just sevennight; and brother Clarence out Into so old or endure the band upon my friend, where he is well on me. \n",
            "SCENE 2. \n",
            "He dares receive from mutiny, What I know he ride, Who, almost sees himself, so look here I'll help to break into the devil. \n",
            "It did blast her husband, let it was mine honour; but he's so willeth Winchester. \n",
            "ANGELO. \n",
            "Who does she? POSTHUMUS. \n",
            "Ay me, and a one kick; So good lieutenant. \n",
            "MIRANDA. \n",
            "I never was against our faults from my gage, To raise his robbery have labour'd much of her? Ay, with his hand: I lose by thy favour, Live and men that noble to be found. \n",
            "The story ready when he shows it. \n",
            "Let death of grief itself, which I the world of time in then it's spritely, waking, audible, even to be tender-minded Does change my loving King. \n",
            "AUSTRIA. \n",
            "[Aside] As I the outside of thy hand- a happy time. \n",
            "But purgatory, torture, and prov'd worth the death; And never knew a novelty to Egypt; and might approve the number, Though news is, and therewithal the lungs, cries do it; stain The daughter and yet I hope is less frequent With your mistress; make your lordship. \n",
            "Oph. \n",
            "I have you like a prince of fortune be not shame to be you behold their offices of planets evil, Tempteth my cause, Doth show you will; My father hath in the jest to the most inward breaks, and does it does my life more of it is the immoderate use thee. \n",
            "Why then, thus I am Alisander- BOYET. \n",
            "Padua. \n",
            "LORENZO. \n",
            "Go to; stand between fourteen they all the earth and train'd, Stuff'd, as valiant, active, wealthy; Which you must learn A saucy merchant of More direful thunders and we bear it please his conscience. \n",
            "O, then I shall never object of your royal fronts The Cardinal's malice itself? MONTAGUE. \n",
            "SECOND GENTLEMAN. \n",
            "Do thou want'st a mounting larks should perceive your garden Enter SIR TOBY. \n",
            "Let me dispute his mind, He was or \n"
          ]
        }
      ]
    },
    {
      "cell_type": "markdown",
      "source": [
        "At this point you might enjoy finding other sources of text on the internet and replacing the url at the top of this notebook. You can use song lyrics, news articles, etc. You just need to find files ending with '.txt'. Alternatively, you can copy and paste any block of text from any file into colab, assign it to the variable `text`, and then use wordlist=text.split() to get a list of words."
      ],
      "metadata": {
        "id": "cHcYHBcNu65y"
      }
    },
    {
      "cell_type": "code",
      "source": [
        "url1='https://example-files.online-convert.com/document/txt/example.txt'   # A different web address\n",
        "text1 = urlopen(url1).read().decode('utf-8') # opens web address, reads file, converts to text\n",
        "sample = text1.split() # Splits text\n",
        "nextwords1 = createNextwords(sample) # nextwords1 dictionary created\n",
        "newplay1=makePlay(nextwords1,100) # newplay1 created using nextwords1 dictionary and 100 words\n",
        "print(newplay1)"
      ],
      "metadata": {
        "colab": {
          "base_uri": "https://localhost:8080/"
        },
        "id": "Wx6id_osz0QY",
        "outputId": "b43d9d41-6b90-4303-9438-fc71fcffdc8a"
      },
      "execution_count": 15,
      "outputs": [
        {
          "output_type": "stream",
          "name": "stdout",
          "text": [
            "If several anonymous parties are cited in some American federal cases. \n",
            "Public, known in the form. \n",
            "The names are used to a party whose identity is rarely used, and \"Janie Doe\" or just \"Doe\" non-gender-specifically are cited in a legal action, the license above. \n",
            "Other unidentified female murder victims are referenced, they may be called James Doe, etc. \n",
            "Similarly, a fictional information to a typical male in Kansas City, Missouri, referred to avoid possible confusion, if two anonymous or baby victim as Baby Doe. \n",
            "Other early alternatives such as Precious Doe. \n",
            "Jane Roe\". \n",
            "If several anonymous or labelled John Q. \n",
            "\n"
          ]
        }
      ]
    },
    {
      "cell_type": "markdown",
      "source": [
        "## Bonus:\n",
        "\n",
        "Recall the following recursive function that we used to define the Fibonacci numbers:"
      ],
      "metadata": {
        "id": "SOZ_vzwJoG45"
      }
    },
    {
      "cell_type": "code",
      "source": [
        "def fibonacci(n):\n",
        "  # Base cases: F(0) = 0, F(1) = 1\n",
        "  if n == 0:\n",
        "    return 0\n",
        "  elif n == 1:\n",
        "    return 1\n",
        "  else:\n",
        "    # Recursive case: F(n) = F(n-1) + F(n-2)\n",
        "    return fibonacci(n - 1) + fibonacci(n - 2)\n"
      ],
      "metadata": {
        "id": "KTj2L--_oQDu"
      },
      "execution_count": 16,
      "outputs": []
    },
    {
      "cell_type": "markdown",
      "source": [
        "Here is the question.  If you run this line of code:  \n",
        "`fibonacci(17)`  \n",
        "how many times does the function `fibonacci()` get called?  \n",
        "(The answer is not 1597, which is the value returned by the function.)"
      ],
      "metadata": {
        "id": "C-PtiPKwod0m"
      }
    },
    {
      "cell_type": "markdown",
      "source": [
        "The function gets called initially (1), then 16 more times for the fibonnaci(n-1), then 15 more times for the fibonnaci(n-2). In total it runs 32 times"
      ],
      "metadata": {
        "id": "Ovt2EK-Y31xz"
      }
    }
  ]
}