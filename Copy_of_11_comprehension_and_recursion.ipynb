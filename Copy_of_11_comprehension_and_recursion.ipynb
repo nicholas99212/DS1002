{
  "nbformat": 4,
  "nbformat_minor": 0,
  "metadata": {
    "colab": {
      "provenance": [],
      "include_colab_link": true
    },
    "kernelspec": {
      "name": "python3",
      "display_name": "Python 3"
    },
    "language_info": {
      "name": "python"
    }
  },
  "cells": [
    {
      "cell_type": "markdown",
      "metadata": {
        "id": "view-in-github",
        "colab_type": "text"
      },
      "source": [
        "<a href=\"https://colab.research.google.com/github/nicholas99212/DS1002/blob/main/Copy_of_11_comprehension_and_recursion.ipynb\" target=\"_parent\"><img src=\"https://colab.research.google.com/assets/colab-badge.svg\" alt=\"Open In Colab\"/></a>"
      ]
    },
    {
      "cell_type": "markdown",
      "source": [
        "## Assignment 11\n",
        "Due Monday 15 April at noon"
      ],
      "metadata": {
        "id": "y6mGkyWrqph3"
      }
    },
    {
      "cell_type": "markdown",
      "source": [
        "### List comprehension\n",
        "\n",
        "Many of you resisted my recommendation to use list comprehensions in the previous assignment, and so my hand is forced.  You made me require it.\n",
        "\n",
        "\n",
        "Problem 1.  For each function you write below, you may assume the list being sent to the function will contain the appropriate data type.\n",
        "\n",
        "Use list comprehensions to create a function that will take a list `l` and return . . ."
      ],
      "metadata": {
        "id": "eBJulsWBngse"
      }
    },
    {
      "cell_type": "markdown",
      "source": [
        "(a) . . . a list containing the absolute value of each element of `l`"
      ],
      "metadata": {
        "id": "1h4hKDEqo5T_"
      }
    },
    {
      "cell_type": "code",
      "source": [
        "def abs_v(l): # defining a function\n",
        "  return list((abs(x) for x in l)) # returns a list that contains the absolute value of each element in the original list\n",
        "\n",
        "l = [-4, 2, 3, -22, 5] # Example list\n",
        "abs_v(l) # Example run"
      ],
      "metadata": {
        "id": "LNltsHhtngLS",
        "colab": {
          "base_uri": "https://localhost:8080/"
        },
        "outputId": "a2a86445-9a9a-42f8-9f64-804c7cb910c2"
      },
      "execution_count": 1,
      "outputs": [
        {
          "output_type": "execute_result",
          "data": {
            "text/plain": [
              "[4, 2, 3, 22, 5]"
            ]
          },
          "metadata": {},
          "execution_count": 1
        }
      ]
    },
    {
      "cell_type": "markdown",
      "source": [
        "(b) . . . a list containing `True` for each even number in `l` and `False` for each odd number in `l`"
      ],
      "metadata": {
        "id": "mqIbzaTvpLCV"
      }
    },
    {
      "cell_type": "code",
      "source": [
        "def even_odd(l): # Defines function\n",
        "  return list(x % 2 == 0 for x in l) # Returns a list that contains \"True\" for even numbers in the original list (if the remainder is 0 after dividing by 2 that means it's an even number) and \"False\" for odd numbers\n",
        "\n",
        "even_odd(l) # Example run"
      ],
      "metadata": {
        "id": "0OTpQFX9pK0t",
        "colab": {
          "base_uri": "https://localhost:8080/"
        },
        "outputId": "782dc230-6f49-402a-db38-88709d4d2d66"
      },
      "execution_count": 2,
      "outputs": [
        {
          "output_type": "execute_result",
          "data": {
            "text/plain": [
              "[True, True, False, True, False]"
            ]
          },
          "metadata": {},
          "execution_count": 2
        }
      ]
    },
    {
      "cell_type": "markdown",
      "source": [
        "(c) . . . a list containing only the numbers in `l` that are divisible by 3"
      ],
      "metadata": {
        "id": "9yqVg2hApUY9"
      }
    },
    {
      "cell_type": "code",
      "source": [
        "def div_3(l): # Defines function\n",
        "  return list(x for x in l if x % 3 == 0) # Uses a for loop within a list comprehension to only return elements in list divisable by 3 (x % 3 == 0 means that the remainder has to equal 0 after dividing by 3, checks if divisable by 3)\n",
        "\n",
        "div_3(l) # Example run"
      ],
      "metadata": {
        "id": "2mP_1aYZpUF4",
        "colab": {
          "base_uri": "https://localhost:8080/"
        },
        "outputId": "71187674-46c4-4d74-af7c-3e7da03b34f0"
      },
      "execution_count": 3,
      "outputs": [
        {
          "output_type": "execute_result",
          "data": {
            "text/plain": [
              "[3]"
            ]
          },
          "metadata": {},
          "execution_count": 3
        }
      ]
    },
    {
      "cell_type": "markdown",
      "source": [
        "(d) . . . a list containing only the words in `l` whose first and last letters are the same"
      ],
      "metadata": {
        "id": "2yClgYZupef1"
      }
    },
    {
      "cell_type": "code",
      "source": [
        "def same_start_end(l): # Defines function\n",
        "  return list(x for x in l if x.lower()[0] == x[-1]) # x[0] is first letter of x, x[-1] is last letter of x. x.lower() ensures that first letter is undercase in order to compare them. Uses for loop within a list comprehension to only return a list of instances of the first and last letter of list entry being the same.\n",
        "\n",
        "words = ['Pineapple', 'Fluff', 'lol', 'Cone', 'Pip', \"LAMA\"] # Example list of words\n",
        "same_start_end(words) # Example run\n"
      ],
      "metadata": {
        "id": "-l7XnemMpeCi",
        "colab": {
          "base_uri": "https://localhost:8080/"
        },
        "outputId": "6bd0d8ae-cab0-4da4-b84d-13d984c3eab9"
      },
      "execution_count": 4,
      "outputs": [
        {
          "output_type": "execute_result",
          "data": {
            "text/plain": [
              "['Fluff', 'lol', 'Pip']"
            ]
          },
          "metadata": {},
          "execution_count": 4
        }
      ]
    },
    {
      "cell_type": "markdown",
      "source": [
        "(e) . . . a list containing the first letter of each word in `l` that ends with a vowel"
      ],
      "metadata": {
        "id": "1mqMysFKppZS"
      }
    },
    {
      "cell_type": "code",
      "source": [
        "vowels = ['a', 'e', 'i', 'o', 'u', 'y'] # Creating a list of vowels to compare to later\n",
        "def FL_if_end_vowel(l):\n",
        "  return list((x[0] for x in l if x.lower()[-1] in vowels)) # Returns a list of the first letters (x[0]) if the last letter in entry(x[-1]) contained in vowel list created previously. uses x.lower() command to ensure that the last letter is undercase to compare to vowel list\n",
        "\n",
        "FL_if_end_vowel(words) # Example run"
      ],
      "metadata": {
        "id": "1Gi3andbppDc",
        "colab": {
          "base_uri": "https://localhost:8080/"
        },
        "outputId": "50ccfa2d-37a4-4f3c-9a0c-527889b82f3e"
      },
      "execution_count": 5,
      "outputs": [
        {
          "output_type": "execute_result",
          "data": {
            "text/plain": [
              "['P', 'C', 'L']"
            ]
          },
          "metadata": {},
          "execution_count": 5
        }
      ]
    },
    {
      "cell_type": "markdown",
      "source": [
        "### Multiplication as a recursive process\n",
        "Problem 2.  Write a recursive function that computes the product of two positive integers `a` and `b` by adding `a` to itself `b` times.\n",
        "\n",
        "Hints:  \n",
        "1. if `b=1` then the product is `a`.\n",
        "2. if `b>1` then the product is what you get by adding `a` to `a * (b-1)`.\n",
        "\n",
        "Note:  the purpose of this exercise is to practice writing recursive functions.  Of course you can trivially ask for `a*b` and get the correct answer but that is worth no points.  Your function should not use any multiplications.\n"
      ],
      "metadata": {
        "id": "iV4ysawxjsiE"
      }
    },
    {
      "cell_type": "code",
      "execution_count": 6,
      "metadata": {
        "id": "wc9Y1d7ejrvH",
        "colab": {
          "base_uri": "https://localhost:8080/"
        },
        "outputId": "31054320-e194-497e-b558-5d8a87d016bc"
      },
      "outputs": [
        {
          "output_type": "stream",
          "name": "stdout",
          "text": [
            "4\n",
            "63\n"
          ]
        }
      ],
      "source": [
        "def multiplication(a, b): # Defines function\n",
        "  if b == 1:\n",
        "    return print(a) # if b = 1, returns a\n",
        "  else:\n",
        "    return print(a + a * (b-1)) # if b != 1, returns a added to itself b times\n",
        "\n",
        "multiplication(4, 1) # example runs\n",
        "multiplication(7, 9)"
      ]
    },
    {
      "cell_type": "markdown",
      "source": [
        "### Division as a recursive process\n",
        "\n",
        "Problem 3:  Write a recursive function that takes two positive integers `a` and `b` and returns the quotient `q` and remainder `r` obtained when `a` is divided by `b`.\n",
        "\n",
        "Hints:  \n",
        "1. If `a<b` then what should `q` and `r` be?\n",
        "\n",
        "2. If `a>b` then think about how `q` and `r` are related to the values you would get from dividing `a-b` by `b`."
      ],
      "metadata": {
        "id": "A5xI1LxDkxn0"
      }
    },
    {
      "cell_type": "code",
      "source": [
        "def division(a, b): # Defines function\n",
        "  if a < b:\n",
        "    return print('Quotient: 0', 'Remainder:', a) # If a is less than b, returns a quotient of 0 and a remainder of a\n",
        "  else:\n",
        "    return print('Quotient:', a // b, 'Remainder:', a % b) # if a is greater than b, returns a quotient of a divided by b, and a remainder of a % b utilizing python command\n",
        "\n",
        "division(4, 5) # example runs\n",
        "division(27, 5)\n",
        "division(81, 9)"
      ],
      "metadata": {
        "id": "_3aRmkgJkxUW",
        "colab": {
          "base_uri": "https://localhost:8080/"
        },
        "outputId": "f1eb98bf-8ae8-47db-b343-a371f02303ff"
      },
      "execution_count": 7,
      "outputs": [
        {
          "output_type": "stream",
          "name": "stdout",
          "text": [
            "Quotient: 0 Remainder: 4\n",
            "Quotient: 5 Remainder: 2\n",
            "Quotient: 9 Remainder: 0\n"
          ]
        }
      ]
    },
    {
      "cell_type": "markdown",
      "source": [
        "### The dot product of two vectors\n",
        "\n",
        "Problem 4.  Write a recursive function `dot()` that takes two lists of numbers, of equal length, and returns the sum of the products of the elements of the same index from each list. For example, if `V=[1,2,3]` and `W=[4,5,6]` then the function should return the value $(1 \\cdot 4) + (2\\cdot 5) + (3\\cdot 6)$, which equals 32.  In physics and linear algebra, this is called the \"dot product\" of the vectors `V` and `W`.\n",
        "\n",
        "Other examples:\n",
        "```\n",
        "dot([3],[4])\n",
        "12\n",
        "\n",
        "dot([1,1,0],[2,7,17])\n",
        "9\n",
        "```\n",
        "Hints:\n",
        "1. How is `dot(V,W)` related to `dot(V[1:],W[1:])`?\n",
        "2. What should happen if the lists are empty?"
      ],
      "metadata": {
        "id": "OkBK7gvglJ3u"
      }
    },
    {
      "cell_type": "code",
      "source": [
        "def dot(V, W): # Defines function\n",
        "  if len(V) != len(W):\n",
        "    return print('Error: Vectors need to be the same length') # If vectors aren't the same length, error message given\n",
        "  if len(V) == 0:\n",
        "    return print('None') # If vectors have a length of 0, none is returned to indicate the value is none/undefined\n",
        "  else:\n",
        "    product = 0 # Defines product as 0 so it can be added to later\n",
        "    for i in range(len(V)): # For loop to run through each entry in the vectors in a range of the length of the vectors\n",
        "      product += V[i] * W[i] # For each i, 'product' is added to by the sum of the multiplication of the two corresponding numbers in the vectors\n",
        "    return print(product) # Product returned, print() used so subsequent functions can be used and all results will still appear\n",
        "\n",
        "\n",
        "dot([], []) # Example runs\n",
        "dot([1, 7, 42], [8, 4, 1])\n",
        "dot([1,2,3,4,5], [2, 4, 6, 8, 10])\n",
        "dot([1,2,3], [1])"
      ],
      "metadata": {
        "id": "LZXs6lkslJqm",
        "colab": {
          "base_uri": "https://localhost:8080/"
        },
        "outputId": "bca84a28-af64-45a4-a5f1-c197fe0fe3f2"
      },
      "execution_count": 8,
      "outputs": [
        {
          "output_type": "stream",
          "name": "stdout",
          "text": [
            "None\n",
            "78\n",
            "110\n",
            "Error: Vectors need to be the same length\n"
          ]
        }
      ]
    }
  ]
}