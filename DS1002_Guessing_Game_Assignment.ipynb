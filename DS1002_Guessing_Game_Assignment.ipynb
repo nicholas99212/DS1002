{
  "nbformat": 4,
  "nbformat_minor": 0,
  "metadata": {
    "colab": {
      "provenance": [],
      "authorship_tag": "ABX9TyNm2aa69ufRbZLkTrL6lVPh",
      "include_colab_link": true
    },
    "kernelspec": {
      "name": "python3",
      "display_name": "Python 3"
    },
    "language_info": {
      "name": "python"
    }
  },
  "cells": [
    {
      "cell_type": "markdown",
      "metadata": {
        "id": "view-in-github",
        "colab_type": "text"
      },
      "source": [
        "<a href=\"https://colab.research.google.com/github/nicholas99212/DS1002/blob/main/DS1002_Guessing_Game_Assignment.ipynb\" target=\"_parent\"><img src=\"https://colab.research.google.com/assets/colab-badge.svg\" alt=\"Open In Colab\"/></a>"
      ]
    },
    {
      "cell_type": "code",
      "execution_count": null,
      "metadata": {
        "id": "qVCQagc7ebju"
      },
      "outputs": [],
      "source": [
        "import numpy as np\n",
        "\n",
        "x = np.random.randint(0, 101)\n",
        "attempts = 1\n",
        "success = False\n",
        "\n",
        "while success == False:\n",
        "  print(\"Guess a number between 0 and 100\")\n",
        "  n = input()\n",
        "  try:\n",
        "    if int(n) == x:\n",
        "        print(\"You got it!\", \"it took you\", str(attempts), \"attempt(s)\")\n",
        "        success = True\n",
        "    else:\n",
        "      if int(n) <= 100 and int(n) >= 0:\n",
        "        print(\"Incorrect answer, Try again!\")\n",
        "        attempts += 1\n",
        "      else:\n",
        "        print(\"Error: number not between 0 and 100\")\n",
        "  except:\n",
        "    print(\"Error: invalid input, try again with an integer\")\n",
        "\n",
        "\n"
      ]
    },
    {
      "cell_type": "markdown",
      "source": [
        "It took me about an hour to finish this assigment"
      ],
      "metadata": {
        "id": "T_K3AI3G6qDP"
      }
    }
  ]
}