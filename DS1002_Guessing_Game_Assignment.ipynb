{
  "nbformat": 4,
  "nbformat_minor": 0,
  "metadata": {
    "colab": {
      "provenance": [],
      "authorship_tag": "ABX9TyNSkuzzPIBhDrsoMEriEcFt",
      "include_colab_link": true
    },
    "kernelspec": {
      "name": "python3",
      "display_name": "Python 3"
    },
    "language_info": {
      "name": "python"
    }
  },
  "cells": [
    {
      "cell_type": "markdown",
      "metadata": {
        "id": "view-in-github",
        "colab_type": "text"
      },
      "source": [
        "<a href=\"https://colab.research.google.com/github/nicholas99212/DS1002/blob/main/DS1002_Guessing_Game_Assignment.ipynb\" target=\"_parent\"><img src=\"https://colab.research.google.com/assets/colab-badge.svg\" alt=\"Open In Colab\"/></a>"
      ]
    },
    {
      "cell_type": "code",
      "execution_count": 15,
      "metadata": {
        "id": "qVCQagc7ebju",
        "outputId": "e09b3c44-08cf-458b-bfd1-3b51fde524c2",
        "colab": {
          "base_uri": "https://localhost:8080/"
        }
      },
      "outputs": [
        {
          "output_type": "stream",
          "name": "stdout",
          "text": [
            "Guess a number between 0 and 100\n",
            "1\n",
            "Incorrect answer, too low, Try again!\n",
            "Guess a number between 0 and 100\n",
            "50\n",
            "Incorrect answer, too low, Try again!\n",
            "Guess a number between 0 and 100\n",
            "85\n",
            "Incorrect answer, too low, Try again!\n",
            "Guess a number between 0 and 100\n",
            "90\n",
            "Incorrect answer, too high, Try again!\n",
            "Guess a number between 0 and 100\n",
            "87\n",
            "Incorrect answer, too high, Try again!\n",
            "Guess a number between 0 and 100\n",
            "86\n",
            "You got it! it took you 6 attempt(s)\n"
          ]
        }
      ],
      "source": [
        "import numpy as np # Imports numpy to use for random integer function\n",
        "\n",
        "x = np.random.randint(0, 101) # Generates random integer between 0 and 100\n",
        "attempts = 1  # Sets attempts = 1 to count them later\n",
        "success = False # Sets success = false for a boolean loop\n",
        "\n",
        "while success == False:   # Creates a boolean loop for when guess is unsuccessful\n",
        "  print(\"Guess a number between 0 and 100\")\n",
        "  n = input() # Prompts user with instructions and gets an input\n",
        "  try:\n",
        "    if int(n) == x:\n",
        "        print(\"You got it!\", \"it took you\", str(attempts), \"attempt(s)\")\n",
        "        success = True # If guess is correct, sets success = true so that boolean loop ends\n",
        "    else:\n",
        "     if int(n) <= 100 and int(n) >= 0 and int(n) < x: # Determines if guess is between 0 and 100, and whether it's low\n",
        "        print(\"Incorrect answer, too low, Try again!\")\n",
        "        attempts += 1 # adds 1 to attempts, the code will only get here if the attempt is wrong from the 1st if statement\n",
        "     else:\n",
        "       if int(n) <= 100 and int(n) >= 0 and int(n) > x: # Another if statement to determine if guess is too high and to add 1 to attempts\n",
        "         print(\"Incorrect answer, too high, Try again!\")\n",
        "         attempts += 1\n",
        "       else:\n",
        "         print(\"Error: number not between 0 and 100\") # Else used to tell if integer not between 0 and 100 from 1st two if statements\n",
        "  except: # Except used to tell if the input isn't an integer and gives user an error code\n",
        "    print(\"Error: invalid input, try again with an integer\")\n",
        "\n",
        "\n"
      ]
    },
    {
      "cell_type": "markdown",
      "source": [
        "It took me about an hour to finish this assigment"
      ],
      "metadata": {
        "id": "T_K3AI3G6qDP"
      }
    }
  ]
}