{
  "nbformat": 4,
  "nbformat_minor": 0,
  "metadata": {
    "colab": {
      "provenance": [],
      "include_colab_link": true
    },
    "kernelspec": {
      "name": "python3",
      "display_name": "Python 3"
    },
    "language_info": {
      "name": "python"
    }
  },
  "cells": [
    {
      "cell_type": "markdown",
      "metadata": {
        "id": "view-in-github",
        "colab_type": "text"
      },
      "source": [
        "<a href=\"https://colab.research.google.com/github/nicholas99212/DS1002/blob/main/Assignment_13_Classes.ipynb\" target=\"_parent\"><img src=\"https://colab.research.google.com/assets/colab-badge.svg\" alt=\"Open In Colab\"/></a>"
      ]
    },
    {
      "cell_type": "markdown",
      "source": [
        "## Assignment:  Classes\n",
        "### Due Sunday 28 April at 10pm"
      ],
      "metadata": {
        "id": "5Vy93BSp9Tum"
      }
    },
    {
      "cell_type": "markdown",
      "source": [
        "1.  Define a class called `Person` that has attributes `lastName`, `firstName`, `mother`, and `father`.  Both `mother` and `father` should have default value `unknown`.\n",
        "\n",
        "  Include a `__str__()` function that returns a string of the form '`firstName` `lastName`'.\n",
        "\n",
        "  Include a `__repr__()` function that returns a string that can be evaluated to recreate the `Person` object.\n",
        "\n"
      ],
      "metadata": {
        "id": "vcj5XQAI9Wsb"
      }
    },
    {
      "cell_type": "code",
      "source": [
        "class Person: # Creates a Person class\n",
        "    def __init__(self, lastName, firstName, mother = 'unknown', father = 'unknown'): # Defines properties of the Person class. = 'unknown' defines default value of mother and father to 'unknown'\n",
        "        self.lastName = lastName\n",
        "        self.firstName = firstName\n",
        "        self.mother = mother\n",
        "        self.father = father\n",
        "        # Defines properties of the class for future functions\n",
        "\n",
        "    def __str__(self): # Defines the str function for Person class. Any function that calls the Person class as a string will return this f-string\n",
        "      return f\"{self.firstName} {self.lastName}\" # F string with the first and last name from the Person\n",
        "\n",
        "    def __repr__(self): # Defines the repr function for Person class. Can be evaluated and read by computer to recreate the Person object\n",
        "      return f'Person(\"{self.lastName}\", {self.firstName}, {self.mother}, {self.father})' # F string with every property from the Person class.\n"
      ],
      "metadata": {
        "id": "mjHDwHv3EpVe"
      },
      "execution_count": 1,
      "outputs": []
    },
    {
      "cell_type": "markdown",
      "source": [
        "Create a person (i.e., a `Person` object) called `p` with unknown parents.  (You will need to give your person a first and last name.) Check the type of `p`.  Include all inputs and outputs."
      ],
      "metadata": {
        "id": "-ppMsEIVHINl"
      }
    },
    {
      "cell_type": "code",
      "source": [
        "p = Person('Doe', 'John') # Defines a Person p with the name John Doe, no values for mother or father\n",
        "type(p) # Outputs the type of p variable (Person)"
      ],
      "metadata": {
        "id": "5bwid_6gHIBH",
        "colab": {
          "base_uri": "https://localhost:8080/",
          "height": 104
        },
        "outputId": "09628188-6ef4-4079-b865-3989fd24bb57"
      },
      "execution_count": 2,
      "outputs": [
        {
          "output_type": "execute_result",
          "data": {
            "text/plain": [
              "__main__.Person"
            ],
            "text/html": [
              "<div style=\"max-width:800px; border: 1px solid var(--colab-border-color);\"><style>\n",
              "      pre.function-repr-contents {\n",
              "        overflow-x: auto;\n",
              "        padding: 8px 12px;\n",
              "        max-height: 500px;\n",
              "      }\n",
              "\n",
              "      pre.function-repr-contents.function-repr-contents-collapsed {\n",
              "        cursor: pointer;\n",
              "        max-height: 100px;\n",
              "      }\n",
              "    </style>\n",
              "    <pre style=\"white-space: initial; background:\n",
              "         var(--colab-secondary-surface-color); padding: 8px 12px;\n",
              "         border-bottom: 1px solid var(--colab-border-color);\"><b>Person</b><br/>def __init__(lastName, firstName, mother=&#x27;unknown&#x27;, father=&#x27;unknown&#x27;)</pre><pre class=\"function-repr-contents function-repr-contents-collapsed\" style=\"\"><a class=\"filepath\" style=\"display:none\" href=\"#\"></a>&lt;no docstring&gt;</pre></div>"
            ]
          },
          "metadata": {},
          "execution_count": 2
        }
      ]
    },
    {
      "cell_type": "markdown",
      "source": [
        "Verify that your `__str__` and `__repr__` functions are doing what they are supposed to do.  Include all inputs and outputs."
      ],
      "metadata": {
        "id": "Z6zlUC3xRtal"
      }
    },
    {
      "cell_type": "code",
      "source": [
        "print(str(p)) # Calls string function in Person class for p variable\n",
        "print(repr(p)) # Calls reprise function in Person class for p variable"
      ],
      "metadata": {
        "id": "jZO0dBQYRs-K",
        "colab": {
          "base_uri": "https://localhost:8080/"
        },
        "outputId": "ca93712b-8b0b-4bf1-d904-3bf80d151cb9"
      },
      "execution_count": 3,
      "outputs": [
        {
          "output_type": "stream",
          "name": "stdout",
          "text": [
            "John Doe\n",
            "Person(\"Doe\", John, unknown, unknown)\n"
          ]
        }
      ]
    },
    {
      "cell_type": "markdown",
      "source": [
        "Suppose the mother of `p` has been found and is named Taylor Swift.  Create a new person named Taylor Swift, and make her the mother of `p`:\n",
        "\n",
        "```\n",
        "> p.mother\n",
        "'Taylor Swift'\n",
        "```"
      ],
      "metadata": {
        "id": "1mOAThQiHzoQ"
      }
    },
    {
      "cell_type": "code",
      "source": [
        "T = Person('Swift', 'Taylor') # Defines new Person T Taylor Swift\n",
        "p.mother = T # Defines the mother property of Person P as Person T\n",
        "p.mother # Outputs new value for the mother property of Person P"
      ],
      "metadata": {
        "id": "NYbDOorpHymz",
        "colab": {
          "base_uri": "https://localhost:8080/"
        },
        "outputId": "ea791238-e914-4407-c1be-4e0b4c4acbe7"
      },
      "execution_count": 4,
      "outputs": [
        {
          "output_type": "execute_result",
          "data": {
            "text/plain": [
              "Person(\"Swift\", Taylor, unknown, unknown)"
            ]
          },
          "metadata": {},
          "execution_count": 4
        }
      ]
    },
    {
      "cell_type": "markdown",
      "source": [
        "2.  Add some methods to your class.  Start by copying the `class` definition you already wrote.  Then, inside the `class` definition:\n",
        "\n",
        "  (a) Write a method called `unknownParent()` which returns `True` if any parent is 'unknown' and `False` otherwise.\n",
        "\n",
        "  (b) Write a method called `maternalGrandmother()` which returns the mother's mother.  If the mother is unknown, it should return 'unknown'.\n",
        "\n"
      ],
      "metadata": {
        "id": "1g1pcrmFHzGh"
      }
    },
    {
      "cell_type": "code",
      "source": [
        "class Person:\n",
        "    def __init__(self, lastName, firstName, mother = 'unknown', father = 'unknown'):\n",
        "        self.lastName = lastName\n",
        "        self.firstName = firstName\n",
        "        self.mother = mother\n",
        "        self.father = father\n",
        "\n",
        "    def unknownParent(self): # Defines unknownParent method within Person class\n",
        "      return self.mother == 'unknown' or self.father == 'unknown' # Returns True if either the mother or father property of self is unknown. Returns False if both Father and Mother have values other than 'unknown'\n",
        "\n",
        "    def maternalGrandmother(self): # Defines maternalGrandmother method within Person class\n",
        "      return self.mother.mother # Returns the mother of the mother of self (the grandmother)\n",
        "\n",
        "    def __str__(self):\n",
        "      return f\"{self.firstName} {self.lastName}\"\n",
        "\n",
        "    def __repr__(self):\n",
        "      return f'Person(\"{self.lastName}\", {self.firstName}, {self.mother}, {self.father})'\n"
      ],
      "metadata": {
        "id": "7mIxJGwwKTpv"
      },
      "execution_count": 5,
      "outputs": []
    },
    {
      "cell_type": "markdown",
      "source": [
        "Create enough `Person` objects to test whether your methods are working properly.  Show all your inputs and outputs.  It is up to you to demonstrate that you have thoroughly tested the code.  You may use additional code and/or text chunks if it helps."
      ],
      "metadata": {
        "id": "l9-4gxd8FxAQ"
      }
    },
    {
      "cell_type": "code",
      "source": [
        "A = Person('Tillman', 'Jane', 'Lauren')\n",
        "B = Person('Lanning', 'Moe', 'Debbie', 'John')\n",
        "C = Person('James', 'Amy')\n",
        "D = Person('Smith', 'Lanie', A)\n",
        "E = Person('Walker', 'Johnny', C)\n",
        "# Defining Person objects with varying amount of data. D and E Person objects have A and C Person objects as mother\n",
        "print(A.unknownParent())\n",
        "print(B.unknownParent())\n",
        "print(C.unknownParent())\n",
        "# Calls unknownParent function for A, B, and C Person objects\n",
        "print(D.maternalGrandmother())\n",
        "print(E.maternalGrandmother())\n",
        "# Calls maternalGrandmother function for D and E Person objects"
      ],
      "metadata": {
        "id": "gX1qpcKzFwoZ",
        "colab": {
          "base_uri": "https://localhost:8080/"
        },
        "outputId": "60aedd12-8ccf-4e19-ad17-c3989d4c1475"
      },
      "execution_count": 6,
      "outputs": [
        {
          "output_type": "stream",
          "name": "stdout",
          "text": [
            "True\n",
            "False\n",
            "True\n",
            "Lauren\n",
            "unknown\n"
          ]
        }
      ]
    }
  ]
}