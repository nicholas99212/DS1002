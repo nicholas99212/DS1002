{
  "nbformat": 4,
  "nbformat_minor": 0,
  "metadata": {
    "colab": {
      "provenance": [],
      "authorship_tag": "ABX9TyMnqJBTxgPSTJHlfoLElwFT",
      "include_colab_link": true
    },
    "kernelspec": {
      "name": "python3",
      "display_name": "Python 3"
    },
    "language_info": {
      "name": "python"
    }
  },
  "cells": [
    {
      "cell_type": "markdown",
      "metadata": {
        "id": "view-in-github",
        "colab_type": "text"
      },
      "source": [
        "<a href=\"https://colab.research.google.com/github/nicholas99212/DS1002/blob/main/DS1002_HW5.ipynb\" target=\"_parent\"><img src=\"https://colab.research.google.com/assets/colab-badge.svg\" alt=\"Open In Colab\"/></a>"
      ]
    },
    {
      "cell_type": "code",
      "execution_count": 2,
      "metadata": {
        "colab": {
          "base_uri": "https://localhost:8080/"
        },
        "id": "zAvwffNG4Ysz",
        "outputId": "14fa7d8b-f933-4777-ce4f-ec6aa174ee3a"
      },
      "outputs": [
        {
          "output_type": "stream",
          "name": "stdout",
          "text": [
            "Collecting english_words\n",
            "  Downloading english-words-2.0.1.tar.gz (8.2 MB)\n",
            "\u001b[2K     \u001b[90m━━━━━━━━━━━━━━━━━━━━━━━━━━━━━━━━━━━━━━━━\u001b[0m \u001b[32m8.2/8.2 MB\u001b[0m \u001b[31m17.4 MB/s\u001b[0m eta \u001b[36m0:00:00\u001b[0m\n",
            "\u001b[?25h  Installing build dependencies ... \u001b[?25l\u001b[?25hdone\n",
            "  Getting requirements to build wheel ... \u001b[?25l\u001b[?25hdone\n",
            "  Preparing metadata (pyproject.toml) ... \u001b[?25l\u001b[?25hdone\n",
            "Building wheels for collected packages: english_words\n",
            "  Building wheel for english_words (pyproject.toml) ... \u001b[?25l\u001b[?25hdone\n",
            "  Created wheel for english_words: filename=english_words-2.0.1-py3-none-any.whl size=8196238 sha256=82230b1b437457027681870e9aeccc425789e2697c7cf2ab012767b6596be9be\n",
            "  Stored in directory: /root/.cache/pip/wheels/f0/e6/d9/16a123647999fe535f03a36e7af23eef203736d84c7ca25b0b\n",
            "Successfully built english_words\n",
            "Installing collected packages: english_words\n",
            "Successfully installed english_words-2.0.1\n"
          ]
        }
      ],
      "source": [
        "!pip install english_words\n",
        "from english_words import get_english_words_set\n",
        "words = get_english_words_set(['web2'], lower=True)\n",
        "\n"
      ]
    },
    {
      "cell_type": "code",
      "source": [
        "#1.\n",
        "print(type(words))\n",
        "wordlist = list(words)\n",
        "print(len(wordlist))\n",
        "\n",
        "#2.\n",
        "print(wordlist[0:10]) # I'm not sure all of these are words found in the dictionary. i.e. \"prorepublican\"\n",
        "\n",
        "#3.\n",
        "alpha_list = sorted(wordlist)\n",
        "print(alpha_list[0:10])"
      ],
      "metadata": {
        "colab": {
          "base_uri": "https://localhost:8080/"
        },
        "id": "y7fvgcdc48f-",
        "outputId": "d7a2f5da-2f03-4b04-b659-2da727734cd7"
      },
      "execution_count": 3,
      "outputs": [
        {
          "output_type": "stream",
          "name": "stdout",
          "text": [
            "<class 'set'>\n",
            "234450\n",
            "['frictional', 'vertimeter', 'wecht', 'jiff', 'aminobenzaldehyde', 'disengirdle', 'sarabaite', 'exheredation', 'duodenotomy', 'symbranchia']\n",
            "['a', 'aa', 'aal', 'aalii', 'aam', 'aani', 'aardvark', 'aardwolf', 'aaron', 'aaronic']\n"
          ]
        }
      ]
    },
    {
      "cell_type": "code",
      "source": [
        "#4.\n",
        "print('# of words that start with an a:', sum(1 for word in alpha_list if word.startswith('a'))) # Uses sum and word.startswith function to add 1 everytime the word starts with a\n",
        "\n",
        "#5.\n",
        "Q_words = 0\n",
        "for word in alpha_list:\n",
        "  if 'q' in word:\n",
        "    Q_words += 1\n",
        "print('# of words with a q:', Q_words)\n",
        "# Checks each word in alpha list to see if q is in it, then prints sum of words with\n",
        "\n",
        "E_words = 0\n",
        "for word in alpha_list:\n",
        "  if 'e' in word:\n",
        "    E_words += 1\n",
        "print('Fraction of words without an e:', 1-(E_words/len(alpha_list)))"
      ],
      "metadata": {
        "colab": {
          "base_uri": "https://localhost:8080/"
        },
        "id": "_saQ-If47mbB",
        "outputId": "730f94cc-c17e-423d-bd72-b111141ac261"
      },
      "execution_count": 4,
      "outputs": [
        {
          "output_type": "stream",
          "name": "stdout",
          "text": [
            "# of words that start with an a: 16982\n",
            "# of words with a q: 3624\n",
            "Fraction of words without an e: 0.32828321603753463\n"
          ]
        }
      ]
    },
    {
      "cell_type": "code",
      "source": [
        "#6.\n",
        "import numpy as np\n",
        "np.array(alpha_list)\n",
        "alphabet = [chr(i) for i in range(ord('a'),ord('z')+1)] # creates a list containing each letter in the alphabet. chr() command turns integers to characters. ord() command turns characterse to integers.\n",
        "#7.\n",
        "import matplotlib.pyplot as plt\n",
        "frequency = []\n",
        "for letter in alphabet:\n",
        "  count = sum(1 for word in wordlist if word.startswith(letter)) #takes each letter in the alphabet, then checks each word in wordlist to see if the word starts with that letter. If it does start with that letter, adds 1 to count and then appends frequency list once the for loop is done running through each letter\n",
        "  frequency.append(count)\n",
        "\n",
        "plt.bar(alphabet, frequency)\n",
        "plt.title('Bar graph of starting letter counts')\n",
        "plt.xlabel('letters')\n",
        "plt.ylabel('# words starting with letter')\n",
        "plt.show\n",
        "\n"
      ],
      "metadata": {
        "colab": {
          "base_uri": "https://localhost:8080/",
          "height": 642
        },
        "id": "NG41Ys7o_z1Q",
        "outputId": "206c2e61-8a76-4910-8a47-4f9a5695a95e"
      },
      "execution_count": 14,
      "outputs": [
        {
          "output_type": "execute_result",
          "data": {
            "text/plain": [
              "<function matplotlib.pyplot.show(close=None, block=None)>"
            ],
            "text/html": [
              "<div style=\"max-width:800px; border: 1px solid var(--colab-border-color);\"><style>\n",
              "      pre.function-repr-contents {\n",
              "        overflow-x: auto;\n",
              "        padding: 8px 12px;\n",
              "        max-height: 500px;\n",
              "      }\n",
              "\n",
              "      pre.function-repr-contents.function-repr-contents-collapsed {\n",
              "        cursor: pointer;\n",
              "        max-height: 100px;\n",
              "      }\n",
              "    </style>\n",
              "    <pre style=\"white-space: initial; background:\n",
              "         var(--colab-secondary-surface-color); padding: 8px 12px;\n",
              "         border-bottom: 1px solid var(--colab-border-color);\"><b>matplotlib.pyplot.show</b><br/>def show(*args, **kwargs)</pre><pre class=\"function-repr-contents function-repr-contents-collapsed\" style=\"\"><a class=\"filepath\" style=\"display:none\" href=\"#\">/usr/local/lib/python3.10/dist-packages/matplotlib/pyplot.py</a>Display all open figures.\n",
              "\n",
              "Parameters\n",
              "----------\n",
              "block : bool, optional\n",
              "    Whether to wait for all figures to be closed before returning.\n",
              "\n",
              "    If `True` block and run the GUI main loop until all figure windows\n",
              "    are closed.\n",
              "\n",
              "    If `False` ensure that all figure windows are displayed and return\n",
              "    immediately.  In this case, you are responsible for ensuring\n",
              "    that the event loop is running to have responsive figures.\n",
              "\n",
              "    Defaults to True in non-interactive mode and to False in interactive\n",
              "    mode (see `.pyplot.isinteractive`).\n",
              "\n",
              "See Also\n",
              "--------\n",
              "ion : Enable interactive mode, which shows / updates the figure after\n",
              "      every plotting command, so that calling ``show()`` is not necessary.\n",
              "ioff : Disable interactive mode.\n",
              "savefig : Save the figure to an image file instead of showing it on screen.\n",
              "\n",
              "Notes\n",
              "-----\n",
              "**Saving figures to file and showing a window at the same time**\n",
              "\n",
              "If you want an image file as well as a user interface window, use\n",
              "`.pyplot.savefig` before `.pyplot.show`. At the end of (a blocking)\n",
              "``show()`` the figure is closed and thus unregistered from pyplot. Calling\n",
              "`.pyplot.savefig` afterwards would save a new and thus empty figure. This\n",
              "limitation of command order does not apply if the show is non-blocking or\n",
              "if you keep a reference to the figure and use `.Figure.savefig`.\n",
              "\n",
              "**Auto-show in jupyter notebooks**\n",
              "\n",
              "The jupyter backends (activated via ``%matplotlib inline``,\n",
              "``%matplotlib notebook``, or ``%matplotlib widget``), call ``show()`` at\n",
              "the end of every cell by default. Thus, you usually don&#x27;t have to call it\n",
              "explicitly there.</pre>\n",
              "      <script>\n",
              "      if (google.colab.kernel.accessAllowed && google.colab.files && google.colab.files.view) {\n",
              "        for (const element of document.querySelectorAll('.filepath')) {\n",
              "          element.style.display = 'block'\n",
              "          element.onclick = (event) => {\n",
              "            event.preventDefault();\n",
              "            event.stopPropagation();\n",
              "            google.colab.files.view(element.textContent, 401);\n",
              "          };\n",
              "        }\n",
              "      }\n",
              "      for (const element of document.querySelectorAll('.function-repr-contents')) {\n",
              "        element.onclick = (event) => {\n",
              "          event.preventDefault();\n",
              "          event.stopPropagation();\n",
              "          element.classList.toggle('function-repr-contents-collapsed');\n",
              "        };\n",
              "      }\n",
              "      </script>\n",
              "      </div>"
            ]
          },
          "metadata": {},
          "execution_count": 14
        },
        {
          "output_type": "display_data",
          "data": {
            "text/plain": [
              "<Figure size 640x480 with 1 Axes>"
            ],
            "image/png": "[encoded data removed]"
          },
          "metadata": {}
        }
      ]
    },
    {
      "cell_type": "code",
      "source": [
        "#8.\n",
        "sorted_words = sorted(wordlist, key=len) # Sorts wordlist by length of words\n",
        "print('Six longest words:', sorted_words[-6:]) # Takes last 6 words in list, being 6 longest words\n",
        "\n"
      ],
      "metadata": {
        "colab": {
          "base_uri": "https://localhost:8080/"
        },
        "id": "DZ7IbkwK41_H",
        "outputId": "2c83857c-a164-450d-aeca-c54ae4951691"
      },
      "execution_count": 39,
      "outputs": [
        {
          "output_type": "stream",
          "name": "stdout",
          "text": [
            "Six longest words: ['thyroparathyroidectomize', 'tetraiodophenolphthalein', 'pathologicopsychological', 'formaldehydesulphoxylate', 'scientificophilosophical', 'antidisestablishmentarianism']\n"
          ]
        }
      ]
    },
    {
      "cell_type": "code",
      "source": [
        "#9.\n",
        "word_lengths = []\n",
        "for word in wordlist:\n",
        "  word_lengths.append(len(word))\n",
        "sorted_lengths = sorted(word_lengths) # Creates a list word_lengths that corresponds with wordlist but has length values rather than words, then sorts list\n",
        "\n",
        "length_dictionary = {}\n",
        "for length in sorted_lengths:\n",
        "  if length in length_dictionary:\n",
        "    length_dictionary[length] += 1\n",
        "  else:\n",
        "    length_dictionary[length] = 1\n",
        "# Function creates a dictionary of word lengths. Creates new entry in dictionary if word length hasn't been recorded yet, and adds to dictionary if the length has been recorded\n",
        "\n",
        "plt.bar(length_dictionary.keys(), length_dictionary.values()) # Creates histogram with word length on x axis, word frequencies on y axis pulling both of these values using the key and value commands associated with dictionaries\n",
        "plt.title('Word Length and Frequency Histogram')\n",
        "plt.xlabel('Word length')\n",
        "plt.ylabel('Frequency')\n",
        "plt.show\n",
        "\n"
      ],
      "metadata": {
        "colab": {
          "base_uri": "https://localhost:8080/",
          "height": 642
        },
        "id": "UxR-ztG72y10",
        "outputId": "bbe4a8a3-4b73-408d-e8ec-a9aef92df9b7"
      },
      "execution_count": 45,
      "outputs": [
        {
          "output_type": "execute_result",
          "data": {
            "text/plain": [
              "<function matplotlib.pyplot.show(close=None, block=None)>"
            ],
            "text/html": [
              "<div style=\"max-width:800px; border: 1px solid var(--colab-border-color);\"><style>\n",
              "      pre.function-repr-contents {\n",
              "        overflow-x: auto;\n",
              "        padding: 8px 12px;\n",
              "        max-height: 500px;\n",
              "      }\n",
              "\n",
              "      pre.function-repr-contents.function-repr-contents-collapsed {\n",
              "        cursor: pointer;\n",
              "        max-height: 100px;\n",
              "      }\n",
              "    </style>\n",
              "    <pre style=\"white-space: initial; background:\n",
              "         var(--colab-secondary-surface-color); padding: 8px 12px;\n",
              "         border-bottom: 1px solid var(--colab-border-color);\"><b>matplotlib.pyplot.show</b><br/>def show(*args, **kwargs)</pre><pre class=\"function-repr-contents function-repr-contents-collapsed\" style=\"\"><a class=\"filepath\" style=\"display:none\" href=\"#\">/usr/local/lib/python3.10/dist-packages/matplotlib/pyplot.py</a>Display all open figures.\n",
              "\n",
              "Parameters\n",
              "----------\n",
              "block : bool, optional\n",
              "    Whether to wait for all figures to be closed before returning.\n",
              "\n",
              "    If `True` block and run the GUI main loop until all figure windows\n",
              "    are closed.\n",
              "\n",
              "    If `False` ensure that all figure windows are displayed and return\n",
              "    immediately.  In this case, you are responsible for ensuring\n",
              "    that the event loop is running to have responsive figures.\n",
              "\n",
              "    Defaults to True in non-interactive mode and to False in interactive\n",
              "    mode (see `.pyplot.isinteractive`).\n",
              "\n",
              "See Also\n",
              "--------\n",
              "ion : Enable interactive mode, which shows / updates the figure after\n",
              "      every plotting command, so that calling ``show()`` is not necessary.\n",
              "ioff : Disable interactive mode.\n",
              "savefig : Save the figure to an image file instead of showing it on screen.\n",
              "\n",
              "Notes\n",
              "-----\n",
              "**Saving figures to file and showing a window at the same time**\n",
              "\n",
              "If you want an image file as well as a user interface window, use\n",
              "`.pyplot.savefig` before `.pyplot.show`. At the end of (a blocking)\n",
              "``show()`` the figure is closed and thus unregistered from pyplot. Calling\n",
              "`.pyplot.savefig` afterwards would save a new and thus empty figure. This\n",
              "limitation of command order does not apply if the show is non-blocking or\n",
              "if you keep a reference to the figure and use `.Figure.savefig`.\n",
              "\n",
              "**Auto-show in jupyter notebooks**\n",
              "\n",
              "The jupyter backends (activated via ``%matplotlib inline``,\n",
              "``%matplotlib notebook``, or ``%matplotlib widget``), call ``show()`` at\n",
              "the end of every cell by default. Thus, you usually don&#x27;t have to call it\n",
              "explicitly there.</pre>\n",
              "      <script>\n",
              "      if (google.colab.kernel.accessAllowed && google.colab.files && google.colab.files.view) {\n",
              "        for (const element of document.querySelectorAll('.filepath')) {\n",
              "          element.style.display = 'block'\n",
              "          element.onclick = (event) => {\n",
              "            event.preventDefault();\n",
              "            event.stopPropagation();\n",
              "            google.colab.files.view(element.textContent, 401);\n",
              "          };\n",
              "        }\n",
              "      }\n",
              "      for (const element of document.querySelectorAll('.function-repr-contents')) {\n",
              "        element.onclick = (event) => {\n",
              "          event.preventDefault();\n",
              "          event.stopPropagation();\n",
              "          element.classList.toggle('function-repr-contents-collapsed');\n",
              "        };\n",
              "      }\n",
              "      </script>\n",
              "      </div>"
            ]
          },
          "metadata": {},
          "execution_count": 45
        },
        {
          "output_type": "display_data",
          "data": {
            "text/plain": [
              "<Figure size 640x480 with 1 Axes>"
            ],
            "image/png": "[encoded data removed]"
          },
          "metadata": {}
        }
      ]
    },
    {
      "cell_type": "code",
      "source": [
        "#10.\n",
        "VA_words = 0\n",
        "WL_words = 0\n",
        "for word in wordlist:\n",
        "  if 'v' in word and 'a' in word:\n",
        "    VA_words += 1\n",
        "# Checks if both v and a are in word from wordlist, then adds to counter\n",
        "for word in wordlist:\n",
        "  if 'w'in word and 'l' in word:\n",
        "    WL_words +=1\n",
        "print(\"words with v and a:\", VA_words)\n",
        "print(\"words with w and l:\", WL_words)\n",
        "\n",
        "# Loops through the words once and checks if letters are in the word. Runtime says 0 seconds\n"
      ],
      "metadata": {
        "colab": {
          "base_uri": "https://localhost:8080/"
        },
        "id": "E-pW5ZvzK-4c",
        "outputId": "11e8dc28-b7df-4c78-9b99-19923bc5dace"
      },
      "execution_count": 67,
      "outputs": [
        {
          "output_type": "stream",
          "name": "stdout",
          "text": [
            "words with v and a: 11347\n",
            "words with w and l: 4822\n"
          ]
        }
      ]
    },
    {
      "cell_type": "code",
      "source": [],
      "metadata": {
        "id": "yzeqaXa5NYLW"
      },
      "execution_count": null,
      "outputs": []
    }
  ]
}