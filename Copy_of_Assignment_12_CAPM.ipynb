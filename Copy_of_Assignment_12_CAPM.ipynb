{
  "cells": [
    {
      "cell_type": "markdown",
      "metadata": {
        "id": "view-in-github",
        "colab_type": "text"
      },
      "source": [
        "<a href=\"https://colab.research.google.com/github/nicholas99212/DS1002/blob/main/Copy_of_Assignment_12_CAPM.ipynb\" target=\"_parent\"><img src=\"https://colab.research.google.com/assets/colab-badge.svg\" alt=\"Open In Colab\"/></a>"
      ]
    },
    {
      "cell_type": "markdown",
      "metadata": {
        "id": "Pz4oXuFbf1pe"
      },
      "source": [
        "## Capital Asset Pricing Model (CAPM)\n",
        "\n",
        "### Assignment due Monday 22 April at noon\n",
        "\n",
        "---"
      ]
    },
    {
      "cell_type": "markdown",
      "metadata": {
        "id": "K-eHlG5gf1pf"
      },
      "source": [
        "### Objectives\n",
        "\n",
        "This assignment is primarily meant to refresh your numpy and pandas skills.  \n",
        "Technical objectives are discussed below.  \n",
        "\n",
        "- All the usual rules apply:  you may work together (groups of at most 3), make sure all names are easy to find at the top of the submission, submit the link to your working colab notebook\n",
        "\n",
        "\n",
        "### Background\n",
        "\n",
        "In finance, CAPM is a single-factor regression model used for analyzing (and predicting) excess stock returns. There are better, more accurate models, but it has its uses. For example, the *market beta* is a useful output which has something to do with the risk of particular investments.\n",
        "\n",
        "1.  Read [this brief synopsis](https://en.wikipedia.org/wiki/Capital_asset_pricing_model) of CAPM.\n",
        "\n",
        "\n",
        "Don't worry if you don't understand all the terminology.\n",
        "Look for a moment at the main formula (in the \"Formula\" section).  For us that formula will look like this:\n",
        "\n",
        "\\begin{aligned}\n",
        "E(R_A) = R_f + \\beta_A (E(R_{SP}) - R_f)\n",
        "\\end{aligned}\n",
        "\n",
        "Some notes on the symbols in this formula:\n",
        "- The formula is used to estimate $E(R_A)$.  The $E$ here stands for the expected value, and $R_A$ is the rate of return of the investment $A$.\n",
        "- To use this formula, you therefore need to know the values of the other variables.\n",
        "- The variable $R_f$ is the \"risk-free rate,\" which is the amount of return you can get on an investment that has zero risk, like say a bank account.\n",
        "This quantity changes over time but for our purposes we can treat it as a constant.  It is hard-coded into the code below.  Make sure you see where this variable occurs in the formula above.\n",
        "- In this assignment the variable $R_{SP}$ is a measure of the rate of return of the overall market.  (The $E$ on the right side also means expected value.)\n",
        "- The variable $\\beta_A$ measures something about the relative risk of the investment A, relative to the overall market.  The technical objective of this assignment will be to compute $\\beta_A$ below, and then to examine how sensitive it is to the specific data.\n",
        "- The value you get for $\\beta_A$ will be a number.  If it is greater than 1, it means (*very roughly*) that the investment A is more volatile than the overall market.  If it is less than 1, it means that the investment is less volatile than the overall market.  But **do not take this too seriously!** In particular see all the caveats at the wikipedia page.\n",
        "- The A investment in our example is an individual stock (Apple).\n",
        "\n"
      ]
    },
    {
      "cell_type": "markdown",
      "metadata": {
        "id": "bHqzHCZnf1pg"
      },
      "source": [
        "2.  Load the packages and data.  (Note that the following code chunk also hard-codes the constant $R_f$.)  \n",
        "The data lives in the file `capm_market_data` in the `data` folder on the `GitHub` site."
      ]
    },
    {
      "cell_type": "code",
      "execution_count": 1,
      "metadata": {
        "id": "iRPr8YvJf1pg"
      },
      "outputs": [],
      "source": [
        "# load numpy and pandas packages\n",
        "import numpy as np\n",
        "import pandas as pd\n",
        "\n",
        "# get data\n",
        "data = pd.read_csv('/content/capm_market_data.csv')\n",
        "\n",
        "# risk-free Treasury rate\n",
        "R_f = 0.0175 / 252"
      ]
    },
    {
      "cell_type": "markdown",
      "metadata": {
        "id": "PLXAZx6xf1ph"
      },
      "source": [
        "3.  Look at some records.  \n",
        "SPY is something that mirrors the S&P 500 (\"the market\").  \n",
        "AAPL is the code for Apple stock.  \n",
        "The values are closing prices, adjusted for splits and dividends."
      ]
    },
    {
      "cell_type": "code",
      "execution_count": 2,
      "metadata": {
        "colab": {
          "base_uri": "https://localhost:8080/",
          "height": 424
        },
        "id": "747y_ickf1ph",
        "outputId": "b089c727-c61e-4136-e338-5ef38f1c7a4c"
      },
      "outputs": [
        {
          "output_type": "execute_result",
          "data": {
            "text/plain": [
              "           date  spy_adj_close  aapl_adj_close\n",
              "0    2020-01-02     321.555786      298.829956\n",
              "1    2020-01-03     319.120911      295.924713\n",
              "2    2020-01-06     320.338379      298.282715\n",
              "3    2020-01-07     319.437653      296.879883\n",
              "4    2020-01-08     321.140106      301.655548\n",
              "..          ...            ...             ...\n",
              "130  2020-07-09     314.380005      383.010010\n",
              "131  2020-07-10     317.589996      383.679993\n",
              "132  2020-07-13     314.839996      381.910004\n",
              "133  2020-07-14     318.920013      388.230011\n",
              "134  2020-07-15     321.850006      390.899994\n",
              "\n",
              "[135 rows x 3 columns]"
            ],
            "text/html": [
              "\n",
              "  <div id=\"df-2a0ddddf-ed81-4765-9c1a-b7f327366e81\" class=\"colab-df-container\">\n",
              "    <div>\n",
              "<style scoped>\n",
              "    .dataframe tbody tr th:only-of-type {\n",
              "        vertical-align: middle;\n",
              "    }\n",
              "\n",
              "    .dataframe tbody tr th {\n",
              "        vertical-align: top;\n",
              "    }\n",
              "\n",
              "    .dataframe thead th {\n",
              "        text-align: right;\n",
              "    }\n",
              "</style>\n",
              "<table border=\"1\" class=\"dataframe\">\n",
              "  <thead>\n",
              "    <tr style=\"text-align: right;\">\n",
              "      <th></th>\n",
              "      <th>date</th>\n",
              "      <th>spy_adj_close</th>\n",
              "      <th>aapl_adj_close</th>\n",
              "    </tr>\n",
              "  </thead>\n",
              "  <tbody>\n",
              "    <tr>\n",
              "      <th>0</th>\n",
              "      <td>2020-01-02</td>\n",
              "      <td>321.555786</td>\n",
              "      <td>298.829956</td>\n",
              "    </tr>\n",
              "    <tr>\n",
              "      <th>1</th>\n",
              "      <td>2020-01-03</td>\n",
              "      <td>319.120911</td>\n",
              "      <td>295.924713</td>\n",
              "    </tr>\n",
              "    <tr>\n",
              "      <th>2</th>\n",
              "      <td>2020-01-06</td>\n",
              "      <td>320.338379</td>\n",
              "      <td>298.282715</td>\n",
              "    </tr>\n",
              "    <tr>\n",
              "      <th>3</th>\n",
              "      <td>2020-01-07</td>\n",
              "      <td>319.437653</td>\n",
              "      <td>296.879883</td>\n",
              "    </tr>\n",
              "    <tr>\n",
              "      <th>4</th>\n",
              "      <td>2020-01-08</td>\n",
              "      <td>321.140106</td>\n",
              "      <td>301.655548</td>\n",
              "    </tr>\n",
              "    <tr>\n",
              "      <th>...</th>\n",
              "      <td>...</td>\n",
              "      <td>...</td>\n",
              "      <td>...</td>\n",
              "    </tr>\n",
              "    <tr>\n",
              "      <th>130</th>\n",
              "      <td>2020-07-09</td>\n",
              "      <td>314.380005</td>\n",
              "      <td>383.010010</td>\n",
              "    </tr>\n",
              "    <tr>\n",
              "      <th>131</th>\n",
              "      <td>2020-07-10</td>\n",
              "      <td>317.589996</td>\n",
              "      <td>383.679993</td>\n",
              "    </tr>\n",
              "    <tr>\n",
              "      <th>132</th>\n",
              "      <td>2020-07-13</td>\n",
              "      <td>314.839996</td>\n",
              "      <td>381.910004</td>\n",
              "    </tr>\n",
              "    <tr>\n",
              "      <th>133</th>\n",
              "      <td>2020-07-14</td>\n",
              "      <td>318.920013</td>\n",
              "      <td>388.230011</td>\n",
              "    </tr>\n",
              "    <tr>\n",
              "      <th>134</th>\n",
              "      <td>2020-07-15</td>\n",
              "      <td>321.850006</td>\n",
              "      <td>390.899994</td>\n",
              "    </tr>\n",
              "  </tbody>\n",
              "</table>\n",
              "<p>135 rows × 3 columns</p>\n",
              "</div>\n",
              "    <div class=\"colab-df-buttons\">\n",
              "\n",
              "  <div class=\"colab-df-container\">\n",
              "    <button class=\"colab-df-convert\" onclick=\"convertToInteractive('df-2a0ddddf-ed81-4765-9c1a-b7f327366e81')\"\n",
              "            title=\"Convert this dataframe to an interactive table.\"\n",
              "            style=\"display:none;\">\n",
              "\n",
              "  <svg xmlns=\"http://www.w3.org/2000/svg\" height=\"24px\" viewBox=\"0 -960 960 960\">\n",
              "    <path d=\"M120-120v-720h720v720H120Zm60-500h600v-160H180v160Zm220 220h160v-160H400v160Zm0 220h160v-160H400v160ZM180-400h160v-160H180v160Zm440 0h160v-160H620v160ZM180-180h160v-160H180v160Zm440 0h160v-160H620v160Z\"/>\n",
              "  </svg>\n",
              "    </button>\n",
              "\n",
              "  <style>\n",
              "    .colab-df-container {\n",
              "      display:flex;\n",
              "      gap: 12px;\n",
              "    }\n",
              "\n",
              "    .colab-df-convert {\n",
              "      background-color: #E8F0FE;\n",
              "      border: none;\n",
              "      border-radius: 50%;\n",
              "      cursor: pointer;\n",
              "      display: none;\n",
              "      fill: #1967D2;\n",
              "      height: 32px;\n",
              "      padding: 0 0 0 0;\n",
              "      width: 32px;\n",
              "    }\n",
              "\n",
              "    .colab-df-convert:hover {\n",
              "      background-color: #E2EBFA;\n",
              "      box-shadow: 0px 1px 2px rgba(60, 64, 67, 0.3), 0px 1px 3px 1px rgba(60, 64, 67, 0.15);\n",
              "      fill: #174EA6;\n",
              "    }\n",
              "\n",
              "    .colab-df-buttons div {\n",
              "      margin-bottom: 4px;\n",
              "    }\n",
              "\n",
              "    [theme=dark] .colab-df-convert {\n",
              "      background-color: #3B4455;\n",
              "      fill: #D2E3FC;\n",
              "    }\n",
              "\n",
              "    [theme=dark] .colab-df-convert:hover {\n",
              "      background-color: #434B5C;\n",
              "      box-shadow: 0px 1px 3px 1px rgba(0, 0, 0, 0.15);\n",
              "      filter: drop-shadow(0px 1px 2px rgba(0, 0, 0, 0.3));\n",
              "      fill: #FFFFFF;\n",
              "    }\n",
              "  </style>\n",
              "\n",
              "    <script>\n",
              "      const buttonEl =\n",
              "        document.querySelector('#df-2a0ddddf-ed81-4765-9c1a-b7f327366e81 button.colab-df-convert');\n",
              "      buttonEl.style.display =\n",
              "        google.colab.kernel.accessAllowed ? 'block' : 'none';\n",
              "\n",
              "      async function convertToInteractive(key) {\n",
              "        const element = document.querySelector('#df-2a0ddddf-ed81-4765-9c1a-b7f327366e81');\n",
              "        const dataTable =\n",
              "          await google.colab.kernel.invokeFunction('convertToInteractive',\n",
              "                                                    [key], {});\n",
              "        if (!dataTable) return;\n",
              "\n",
              "        const docLinkHtml = 'Like what you see? Visit the ' +\n",
              "          '<a target=\"_blank\" href=https://colab.research.google.com/notebooks/data_table.ipynb>data table notebook</a>'\n",
              "          + ' to learn more about interactive tables.';\n",
              "        element.innerHTML = '';\n",
              "        dataTable['output_type'] = 'display_data';\n",
              "        await google.colab.output.renderOutput(dataTable, element);\n",
              "        const docLink = document.createElement('div');\n",
              "        docLink.innerHTML = docLinkHtml;\n",
              "        element.appendChild(docLink);\n",
              "      }\n",
              "    </script>\n",
              "  </div>\n",
              "\n",
              "\n",
              "<div id=\"df-73976f72-bc4d-4a61-9b94-6ca2b243bd89\">\n",
              "  <button class=\"colab-df-quickchart\" onclick=\"quickchart('df-73976f72-bc4d-4a61-9b94-6ca2b243bd89')\"\n",
              "            title=\"Suggest charts\"\n",
              "            style=\"display:none;\">\n",
              "\n",
              "<svg xmlns=\"http://www.w3.org/2000/svg\" height=\"24px\"viewBox=\"0 0 24 24\"\n",
              "     width=\"24px\">\n",
              "    <g>\n",
              "        <path d=\"M19 3H5c-1.1 0-2 .9-2 2v14c0 1.1.9 2 2 2h14c1.1 0 2-.9 2-2V5c0-1.1-.9-2-2-2zM9 17H7v-7h2v7zm4 0h-2V7h2v10zm4 0h-2v-4h2v4z\"/>\n",
              "    </g>\n",
              "</svg>\n",
              "  </button>\n",
              "\n",
              "<style>\n",
              "  .colab-df-quickchart {\n",
              "      --bg-color: #E8F0FE;\n",
              "      --fill-color: #1967D2;\n",
              "      --hover-bg-color: #E2EBFA;\n",
              "      --hover-fill-color: #174EA6;\n",
              "      --disabled-fill-color: #AAA;\n",
              "      --disabled-bg-color: #DDD;\n",
              "  }\n",
              "\n",
              "  [theme=dark] .colab-df-quickchart {\n",
              "      --bg-color: #3B4455;\n",
              "      --fill-color: #D2E3FC;\n",
              "      --hover-bg-color: #434B5C;\n",
              "      --hover-fill-color: #FFFFFF;\n",
              "      --disabled-bg-color: #3B4455;\n",
              "      --disabled-fill-color: #666;\n",
              "  }\n",
              "\n",
              "  .colab-df-quickchart {\n",
              "    background-color: var(--bg-color);\n",
              "    border: none;\n",
              "    border-radius: 50%;\n",
              "    cursor: pointer;\n",
              "    display: none;\n",
              "    fill: var(--fill-color);\n",
              "    height: 32px;\n",
              "    padding: 0;\n",
              "    width: 32px;\n",
              "  }\n",
              "\n",
              "  .colab-df-quickchart:hover {\n",
              "    background-color: var(--hover-bg-color);\n",
              "    box-shadow: 0 1px 2px rgba(60, 64, 67, 0.3), 0 1px 3px 1px rgba(60, 64, 67, 0.15);\n",
              "    fill: var(--button-hover-fill-color);\n",
              "  }\n",
              "\n",
              "  .colab-df-quickchart-complete:disabled,\n",
              "  .colab-df-quickchart-complete:disabled:hover {\n",
              "    background-color: var(--disabled-bg-color);\n",
              "    fill: var(--disabled-fill-color);\n",
              "    box-shadow: none;\n",
              "  }\n",
              "\n",
              "  .colab-df-spinner {\n",
              "    border: 2px solid var(--fill-color);\n",
              "    border-color: transparent;\n",
              "    border-bottom-color: var(--fill-color);\n",
              "    animation:\n",
              "      spin 1s steps(1) infinite;\n",
              "  }\n",
              "\n",
              "  @keyframes spin {\n",
              "    0% {\n",
              "      border-color: transparent;\n",
              "      border-bottom-color: var(--fill-color);\n",
              "      border-left-color: var(--fill-color);\n",
              "    }\n",
              "    20% {\n",
              "      border-color: transparent;\n",
              "      border-left-color: var(--fill-color);\n",
              "      border-top-color: var(--fill-color);\n",
              "    }\n",
              "    30% {\n",
              "      border-color: transparent;\n",
              "      border-left-color: var(--fill-color);\n",
              "      border-top-color: var(--fill-color);\n",
              "      border-right-color: var(--fill-color);\n",
              "    }\n",
              "    40% {\n",
              "      border-color: transparent;\n",
              "      border-right-color: var(--fill-color);\n",
              "      border-top-color: var(--fill-color);\n",
              "    }\n",
              "    60% {\n",
              "      border-color: transparent;\n",
              "      border-right-color: var(--fill-color);\n",
              "    }\n",
              "    80% {\n",
              "      border-color: transparent;\n",
              "      border-right-color: var(--fill-color);\n",
              "      border-bottom-color: var(--fill-color);\n",
              "    }\n",
              "    90% {\n",
              "      border-color: transparent;\n",
              "      border-bottom-color: var(--fill-color);\n",
              "    }\n",
              "  }\n",
              "</style>\n",
              "\n",
              "  <script>\n",
              "    async function quickchart(key) {\n",
              "      const quickchartButtonEl =\n",
              "        document.querySelector('#' + key + ' button');\n",
              "      quickchartButtonEl.disabled = true;  // To prevent multiple clicks.\n",
              "      quickchartButtonEl.classList.add('colab-df-spinner');\n",
              "      try {\n",
              "        const charts = await google.colab.kernel.invokeFunction(\n",
              "            'suggestCharts', [key], {});\n",
              "      } catch (error) {\n",
              "        console.error('Error during call to suggestCharts:', error);\n",
              "      }\n",
              "      quickchartButtonEl.classList.remove('colab-df-spinner');\n",
              "      quickchartButtonEl.classList.add('colab-df-quickchart-complete');\n",
              "    }\n",
              "    (() => {\n",
              "      let quickchartButtonEl =\n",
              "        document.querySelector('#df-73976f72-bc4d-4a61-9b94-6ca2b243bd89 button');\n",
              "      quickchartButtonEl.style.display =\n",
              "        google.colab.kernel.accessAllowed ? 'block' : 'none';\n",
              "    })();\n",
              "  </script>\n",
              "</div>\n",
              "\n",
              "  <div id=\"id_3060e8ba-87c0-4460-8037-e1b6c61121bd\">\n",
              "    <style>\n",
              "      .colab-df-generate {\n",
              "        background-color: #E8F0FE;\n",
              "        border: none;\n",
              "        border-radius: 50%;\n",
              "        cursor: pointer;\n",
              "        display: none;\n",
              "        fill: #1967D2;\n",
              "        height: 32px;\n",
              "        padding: 0 0 0 0;\n",
              "        width: 32px;\n",
              "      }\n",
              "\n",
              "      .colab-df-generate:hover {\n",
              "        background-color: #E2EBFA;\n",
              "        box-shadow: 0px 1px 2px rgba(60, 64, 67, 0.3), 0px 1px 3px 1px rgba(60, 64, 67, 0.15);\n",
              "        fill: #174EA6;\n",
              "      }\n",
              "\n",
              "      [theme=dark] .colab-df-generate {\n",
              "        background-color: #3B4455;\n",
              "        fill: #D2E3FC;\n",
              "      }\n",
              "\n",
              "      [theme=dark] .colab-df-generate:hover {\n",
              "        background-color: #434B5C;\n",
              "        box-shadow: 0px 1px 3px 1px rgba(0, 0, 0, 0.15);\n",
              "        filter: drop-shadow(0px 1px 2px rgba(0, 0, 0, 0.3));\n",
              "        fill: #FFFFFF;\n",
              "      }\n",
              "    </style>\n",
              "    <button class=\"colab-df-generate\" onclick=\"generateWithVariable('data')\"\n",
              "            title=\"Generate code using this dataframe.\"\n",
              "            style=\"display:none;\">\n",
              "\n",
              "  <svg xmlns=\"http://www.w3.org/2000/svg\" height=\"24px\"viewBox=\"0 0 24 24\"\n",
              "       width=\"24px\">\n",
              "    <path d=\"M7,19H8.4L18.45,9,17,7.55,7,17.6ZM5,21V16.75L18.45,3.32a2,2,0,0,1,2.83,0l1.4,1.43a1.91,1.91,0,0,1,.58,1.4,1.91,1.91,0,0,1-.58,1.4L9.25,21ZM18.45,9,17,7.55Zm-12,3A5.31,5.31,0,0,0,4.9,8.1,5.31,5.31,0,0,0,1,6.5,5.31,5.31,0,0,0,4.9,4.9,5.31,5.31,0,0,0,6.5,1,5.31,5.31,0,0,0,8.1,4.9,5.31,5.31,0,0,0,12,6.5,5.46,5.46,0,0,0,6.5,12Z\"/>\n",
              "  </svg>\n",
              "    </button>\n",
              "    <script>\n",
              "      (() => {\n",
              "      const buttonEl =\n",
              "        document.querySelector('#id_3060e8ba-87c0-4460-8037-e1b6c61121bd button.colab-df-generate');\n",
              "      buttonEl.style.display =\n",
              "        google.colab.kernel.accessAllowed ? 'block' : 'none';\n",
              "\n",
              "      buttonEl.onclick = () => {\n",
              "        google.colab.notebook.generateWithVariable('data');\n",
              "      }\n",
              "      })();\n",
              "    </script>\n",
              "  </div>\n",
              "\n",
              "    </div>\n",
              "  </div>\n"
            ],
            "application/vnd.google.colaboratory.intrinsic+json": {
              "type": "dataframe",
              "variable_name": "data",
              "summary": "{\n  \"name\": \"data\",\n  \"rows\": 135,\n  \"fields\": [\n    {\n      \"column\": \"date\",\n      \"properties\": {\n        \"dtype\": \"object\",\n        \"num_unique_values\": 135,\n        \"samples\": [\n          \"2020-05-22\",\n          \"2020-04-08\",\n          \"2020-06-03\"\n        ],\n        \"semantic_type\": \"\",\n        \"description\": \"\"\n      }\n    },\n    {\n      \"column\": \"spy_adj_close\",\n      \"properties\": {\n        \"dtype\": \"number\",\n        \"std\": 26.803930691894642,\n        \"min\": 221.973190307617,\n        \"max\": 334.888397216797,\n        \"num_unique_values\": 134,\n        \"samples\": [\n          313.779998779297,\n          263.968383789062,\n          310.812225341797\n        ],\n        \"semantic_type\": \"\",\n        \"description\": \"\"\n      }\n    },\n    {\n      \"column\": \"aapl_adj_close\",\n      \"properties\": {\n        \"dtype\": \"number\",\n        \"std\": 37.18680338863012,\n        \"min\": 223.764266967773,\n        \"max\": 390.899993896484,\n        \"num_unique_values\": 134,\n        \"samples\": [\n          372.690002441406,\n          258.729614257813,\n          323.339996337891\n        ],\n        \"semantic_type\": \"\",\n        \"description\": \"\"\n      }\n    }\n  ]\n}"
            }
          },
          "metadata": {},
          "execution_count": 2
        }
      ],
      "source": [
        "data # displays dataframe"
      ]
    },
    {
      "cell_type": "markdown",
      "metadata": {
        "id": "y8uzBoHpf1ph"
      },
      "source": [
        "4.  Drop the date column"
      ]
    },
    {
      "cell_type": "code",
      "execution_count": 3,
      "metadata": {
        "id": "1rUGRXnQf1ph"
      },
      "outputs": [],
      "source": [
        "data = data.drop(columns = 'date') # drops date column from dataframe"
      ]
    },
    {
      "cell_type": "markdown",
      "metadata": {
        "id": "fyE1w8F2f1ph"
      },
      "source": [
        "5.  Compute daily returns (percentage changes in price) for both SPY and AAPL.\n",
        "(Be sure to drop the first row of NaN.)  \n",
        "Hint: pandas has functions to easily do this.  \n",
        "Print the first 5 rows of returns.\n"
      ]
    },
    {
      "cell_type": "code",
      "execution_count": 4,
      "metadata": {
        "colab": {
          "base_uri": "https://localhost:8080/",
          "height": 424
        },
        "id": "8aCLOA08f1pi",
        "outputId": "7aaab2a9-a178-4d43-84b9-a5840541fa67"
      },
      "outputs": [
        {
          "output_type": "execute_result",
          "data": {
            "text/plain": [
              "     spy_adj_close  aapl_adj_close  spy_daily_return_%  aapl_daily_return_%\n",
              "1       319.120911      295.924713           -0.007572            -0.009722\n",
              "2       320.338379      298.282715            0.003815             0.007968\n",
              "3       319.437653      296.879883           -0.002812            -0.004703\n",
              "4       321.140106      301.655548            0.005330             0.016086\n",
              "5       323.317627      308.062988            0.006781             0.021241\n",
              "..             ...             ...                 ...                  ...\n",
              "130     314.380005      383.010010           -0.005693             0.004300\n",
              "131     317.589996      383.679993            0.010211             0.001749\n",
              "132     314.839996      381.910004           -0.008659            -0.004613\n",
              "133     318.920013      388.230011            0.012959             0.016548\n",
              "134     321.850006      390.899994            0.009187             0.006877\n",
              "\n",
              "[134 rows x 4 columns]"
            ],
            "text/html": [
              "\n",
              "  <div id=\"df-abc04a14-57eb-49db-b84c-3c3bd5535356\" class=\"colab-df-container\">\n",
              "    <div>\n",
              "<style scoped>\n",
              "    .dataframe tbody tr th:only-of-type {\n",
              "        vertical-align: middle;\n",
              "    }\n",
              "\n",
              "    .dataframe tbody tr th {\n",
              "        vertical-align: top;\n",
              "    }\n",
              "\n",
              "    .dataframe thead th {\n",
              "        text-align: right;\n",
              "    }\n",
              "</style>\n",
              "<table border=\"1\" class=\"dataframe\">\n",
              "  <thead>\n",
              "    <tr style=\"text-align: right;\">\n",
              "      <th></th>\n",
              "      <th>spy_adj_close</th>\n",
              "      <th>aapl_adj_close</th>\n",
              "      <th>spy_daily_return_%</th>\n",
              "      <th>aapl_daily_return_%</th>\n",
              "    </tr>\n",
              "  </thead>\n",
              "  <tbody>\n",
              "    <tr>\n",
              "      <th>1</th>\n",
              "      <td>319.120911</td>\n",
              "      <td>295.924713</td>\n",
              "      <td>-0.007572</td>\n",
              "      <td>-0.009722</td>\n",
              "    </tr>\n",
              "    <tr>\n",
              "      <th>2</th>\n",
              "      <td>320.338379</td>\n",
              "      <td>298.282715</td>\n",
              "      <td>0.003815</td>\n",
              "      <td>0.007968</td>\n",
              "    </tr>\n",
              "    <tr>\n",
              "      <th>3</th>\n",
              "      <td>319.437653</td>\n",
              "      <td>296.879883</td>\n",
              "      <td>-0.002812</td>\n",
              "      <td>-0.004703</td>\n",
              "    </tr>\n",
              "    <tr>\n",
              "      <th>4</th>\n",
              "      <td>321.140106</td>\n",
              "      <td>301.655548</td>\n",
              "      <td>0.005330</td>\n",
              "      <td>0.016086</td>\n",
              "    </tr>\n",
              "    <tr>\n",
              "      <th>5</th>\n",
              "      <td>323.317627</td>\n",
              "      <td>308.062988</td>\n",
              "      <td>0.006781</td>\n",
              "      <td>0.021241</td>\n",
              "    </tr>\n",
              "    <tr>\n",
              "      <th>...</th>\n",
              "      <td>...</td>\n",
              "      <td>...</td>\n",
              "      <td>...</td>\n",
              "      <td>...</td>\n",
              "    </tr>\n",
              "    <tr>\n",
              "      <th>130</th>\n",
              "      <td>314.380005</td>\n",
              "      <td>383.010010</td>\n",
              "      <td>-0.005693</td>\n",
              "      <td>0.004300</td>\n",
              "    </tr>\n",
              "    <tr>\n",
              "      <th>131</th>\n",
              "      <td>317.589996</td>\n",
              "      <td>383.679993</td>\n",
              "      <td>0.010211</td>\n",
              "      <td>0.001749</td>\n",
              "    </tr>\n",
              "    <tr>\n",
              "      <th>132</th>\n",
              "      <td>314.839996</td>\n",
              "      <td>381.910004</td>\n",
              "      <td>-0.008659</td>\n",
              "      <td>-0.004613</td>\n",
              "    </tr>\n",
              "    <tr>\n",
              "      <th>133</th>\n",
              "      <td>318.920013</td>\n",
              "      <td>388.230011</td>\n",
              "      <td>0.012959</td>\n",
              "      <td>0.016548</td>\n",
              "    </tr>\n",
              "    <tr>\n",
              "      <th>134</th>\n",
              "      <td>321.850006</td>\n",
              "      <td>390.899994</td>\n",
              "      <td>0.009187</td>\n",
              "      <td>0.006877</td>\n",
              "    </tr>\n",
              "  </tbody>\n",
              "</table>\n",
              "<p>134 rows × 4 columns</p>\n",
              "</div>\n",
              "    <div class=\"colab-df-buttons\">\n",
              "\n",
              "  <div class=\"colab-df-container\">\n",
              "    <button class=\"colab-df-convert\" onclick=\"convertToInteractive('df-abc04a14-57eb-49db-b84c-3c3bd5535356')\"\n",
              "            title=\"Convert this dataframe to an interactive table.\"\n",
              "            style=\"display:none;\">\n",
              "\n",
              "  <svg xmlns=\"http://www.w3.org/2000/svg\" height=\"24px\" viewBox=\"0 -960 960 960\">\n",
              "    <path d=\"M120-120v-720h720v720H120Zm60-500h600v-160H180v160Zm220 220h160v-160H400v160Zm0 220h160v-160H400v160ZM180-400h160v-160H180v160Zm440 0h160v-160H620v160ZM180-180h160v-160H180v160Zm440 0h160v-160H620v160Z\"/>\n",
              "  </svg>\n",
              "    </button>\n",
              "\n",
              "  <style>\n",
              "    .colab-df-container {\n",
              "      display:flex;\n",
              "      gap: 12px;\n",
              "    }\n",
              "\n",
              "    .colab-df-convert {\n",
              "      background-color: #E8F0FE;\n",
              "      border: none;\n",
              "      border-radius: 50%;\n",
              "      cursor: pointer;\n",
              "      display: none;\n",
              "      fill: #1967D2;\n",
              "      height: 32px;\n",
              "      padding: 0 0 0 0;\n",
              "      width: 32px;\n",
              "    }\n",
              "\n",
              "    .colab-df-convert:hover {\n",
              "      background-color: #E2EBFA;\n",
              "      box-shadow: 0px 1px 2px rgba(60, 64, 67, 0.3), 0px 1px 3px 1px rgba(60, 64, 67, 0.15);\n",
              "      fill: #174EA6;\n",
              "    }\n",
              "\n",
              "    .colab-df-buttons div {\n",
              "      margin-bottom: 4px;\n",
              "    }\n",
              "\n",
              "    [theme=dark] .colab-df-convert {\n",
              "      background-color: #3B4455;\n",
              "      fill: #D2E3FC;\n",
              "    }\n",
              "\n",
              "    [theme=dark] .colab-df-convert:hover {\n",
              "      background-color: #434B5C;\n",
              "      box-shadow: 0px 1px 3px 1px rgba(0, 0, 0, 0.15);\n",
              "      filter: drop-shadow(0px 1px 2px rgba(0, 0, 0, 0.3));\n",
              "      fill: #FFFFFF;\n",
              "    }\n",
              "  </style>\n",
              "\n",
              "    <script>\n",
              "      const buttonEl =\n",
              "        document.querySelector('#df-abc04a14-57eb-49db-b84c-3c3bd5535356 button.colab-df-convert');\n",
              "      buttonEl.style.display =\n",
              "        google.colab.kernel.accessAllowed ? 'block' : 'none';\n",
              "\n",
              "      async function convertToInteractive(key) {\n",
              "        const element = document.querySelector('#df-abc04a14-57eb-49db-b84c-3c3bd5535356');\n",
              "        const dataTable =\n",
              "          await google.colab.kernel.invokeFunction('convertToInteractive',\n",
              "                                                    [key], {});\n",
              "        if (!dataTable) return;\n",
              "\n",
              "        const docLinkHtml = 'Like what you see? Visit the ' +\n",
              "          '<a target=\"_blank\" href=https://colab.research.google.com/notebooks/data_table.ipynb>data table notebook</a>'\n",
              "          + ' to learn more about interactive tables.';\n",
              "        element.innerHTML = '';\n",
              "        dataTable['output_type'] = 'display_data';\n",
              "        await google.colab.output.renderOutput(dataTable, element);\n",
              "        const docLink = document.createElement('div');\n",
              "        docLink.innerHTML = docLinkHtml;\n",
              "        element.appendChild(docLink);\n",
              "      }\n",
              "    </script>\n",
              "  </div>\n",
              "\n",
              "\n",
              "<div id=\"df-e6fce32c-93f9-4087-86b1-941c94c696cc\">\n",
              "  <button class=\"colab-df-quickchart\" onclick=\"quickchart('df-e6fce32c-93f9-4087-86b1-941c94c696cc')\"\n",
              "            title=\"Suggest charts\"\n",
              "            style=\"display:none;\">\n",
              "\n",
              "<svg xmlns=\"http://www.w3.org/2000/svg\" height=\"24px\"viewBox=\"0 0 24 24\"\n",
              "     width=\"24px\">\n",
              "    <g>\n",
              "        <path d=\"M19 3H5c-1.1 0-2 .9-2 2v14c0 1.1.9 2 2 2h14c1.1 0 2-.9 2-2V5c0-1.1-.9-2-2-2zM9 17H7v-7h2v7zm4 0h-2V7h2v10zm4 0h-2v-4h2v4z\"/>\n",
              "    </g>\n",
              "</svg>\n",
              "  </button>\n",
              "\n",
              "<style>\n",
              "  .colab-df-quickchart {\n",
              "      --bg-color: #E8F0FE;\n",
              "      --fill-color: #1967D2;\n",
              "      --hover-bg-color: #E2EBFA;\n",
              "      --hover-fill-color: #174EA6;\n",
              "      --disabled-fill-color: #AAA;\n",
              "      --disabled-bg-color: #DDD;\n",
              "  }\n",
              "\n",
              "  [theme=dark] .colab-df-quickchart {\n",
              "      --bg-color: #3B4455;\n",
              "      --fill-color: #D2E3FC;\n",
              "      --hover-bg-color: #434B5C;\n",
              "      --hover-fill-color: #FFFFFF;\n",
              "      --disabled-bg-color: #3B4455;\n",
              "      --disabled-fill-color: #666;\n",
              "  }\n",
              "\n",
              "  .colab-df-quickchart {\n",
              "    background-color: var(--bg-color);\n",
              "    border: none;\n",
              "    border-radius: 50%;\n",
              "    cursor: pointer;\n",
              "    display: none;\n",
              "    fill: var(--fill-color);\n",
              "    height: 32px;\n",
              "    padding: 0;\n",
              "    width: 32px;\n",
              "  }\n",
              "\n",
              "  .colab-df-quickchart:hover {\n",
              "    background-color: var(--hover-bg-color);\n",
              "    box-shadow: 0 1px 2px rgba(60, 64, 67, 0.3), 0 1px 3px 1px rgba(60, 64, 67, 0.15);\n",
              "    fill: var(--button-hover-fill-color);\n",
              "  }\n",
              "\n",
              "  .colab-df-quickchart-complete:disabled,\n",
              "  .colab-df-quickchart-complete:disabled:hover {\n",
              "    background-color: var(--disabled-bg-color);\n",
              "    fill: var(--disabled-fill-color);\n",
              "    box-shadow: none;\n",
              "  }\n",
              "\n",
              "  .colab-df-spinner {\n",
              "    border: 2px solid var(--fill-color);\n",
              "    border-color: transparent;\n",
              "    border-bottom-color: var(--fill-color);\n",
              "    animation:\n",
              "      spin 1s steps(1) infinite;\n",
              "  }\n",
              "\n",
              "  @keyframes spin {\n",
              "    0% {\n",
              "      border-color: transparent;\n",
              "      border-bottom-color: var(--fill-color);\n",
              "      border-left-color: var(--fill-color);\n",
              "    }\n",
              "    20% {\n",
              "      border-color: transparent;\n",
              "      border-left-color: var(--fill-color);\n",
              "      border-top-color: var(--fill-color);\n",
              "    }\n",
              "    30% {\n",
              "      border-color: transparent;\n",
              "      border-left-color: var(--fill-color);\n",
              "      border-top-color: var(--fill-color);\n",
              "      border-right-color: var(--fill-color);\n",
              "    }\n",
              "    40% {\n",
              "      border-color: transparent;\n",
              "      border-right-color: var(--fill-color);\n",
              "      border-top-color: var(--fill-color);\n",
              "    }\n",
              "    60% {\n",
              "      border-color: transparent;\n",
              "      border-right-color: var(--fill-color);\n",
              "    }\n",
              "    80% {\n",
              "      border-color: transparent;\n",
              "      border-right-color: var(--fill-color);\n",
              "      border-bottom-color: var(--fill-color);\n",
              "    }\n",
              "    90% {\n",
              "      border-color: transparent;\n",
              "      border-bottom-color: var(--fill-color);\n",
              "    }\n",
              "  }\n",
              "</style>\n",
              "\n",
              "  <script>\n",
              "    async function quickchart(key) {\n",
              "      const quickchartButtonEl =\n",
              "        document.querySelector('#' + key + ' button');\n",
              "      quickchartButtonEl.disabled = true;  // To prevent multiple clicks.\n",
              "      quickchartButtonEl.classList.add('colab-df-spinner');\n",
              "      try {\n",
              "        const charts = await google.colab.kernel.invokeFunction(\n",
              "            'suggestCharts', [key], {});\n",
              "      } catch (error) {\n",
              "        console.error('Error during call to suggestCharts:', error);\n",
              "      }\n",
              "      quickchartButtonEl.classList.remove('colab-df-spinner');\n",
              "      quickchartButtonEl.classList.add('colab-df-quickchart-complete');\n",
              "    }\n",
              "    (() => {\n",
              "      let quickchartButtonEl =\n",
              "        document.querySelector('#df-e6fce32c-93f9-4087-86b1-941c94c696cc button');\n",
              "      quickchartButtonEl.style.display =\n",
              "        google.colab.kernel.accessAllowed ? 'block' : 'none';\n",
              "    })();\n",
              "  </script>\n",
              "</div>\n",
              "\n",
              "  <div id=\"id_30686a22-3809-436d-bf8c-03487551bb72\">\n",
              "    <style>\n",
              "      .colab-df-generate {\n",
              "        background-color: #E8F0FE;\n",
              "        border: none;\n",
              "        border-radius: 50%;\n",
              "        cursor: pointer;\n",
              "        display: none;\n",
              "        fill: #1967D2;\n",
              "        height: 32px;\n",
              "        padding: 0 0 0 0;\n",
              "        width: 32px;\n",
              "      }\n",
              "\n",
              "      .colab-df-generate:hover {\n",
              "        background-color: #E2EBFA;\n",
              "        box-shadow: 0px 1px 2px rgba(60, 64, 67, 0.3), 0px 1px 3px 1px rgba(60, 64, 67, 0.15);\n",
              "        fill: #174EA6;\n",
              "      }\n",
              "\n",
              "      [theme=dark] .colab-df-generate {\n",
              "        background-color: #3B4455;\n",
              "        fill: #D2E3FC;\n",
              "      }\n",
              "\n",
              "      [theme=dark] .colab-df-generate:hover {\n",
              "        background-color: #434B5C;\n",
              "        box-shadow: 0px 1px 3px 1px rgba(0, 0, 0, 0.15);\n",
              "        filter: drop-shadow(0px 1px 2px rgba(0, 0, 0, 0.3));\n",
              "        fill: #FFFFFF;\n",
              "      }\n",
              "    </style>\n",
              "    <button class=\"colab-df-generate\" onclick=\"generateWithVariable('data')\"\n",
              "            title=\"Generate code using this dataframe.\"\n",
              "            style=\"display:none;\">\n",
              "\n",
              "  <svg xmlns=\"http://www.w3.org/2000/svg\" height=\"24px\"viewBox=\"0 0 24 24\"\n",
              "       width=\"24px\">\n",
              "    <path d=\"M7,19H8.4L18.45,9,17,7.55,7,17.6ZM5,21V16.75L18.45,3.32a2,2,0,0,1,2.83,0l1.4,1.43a1.91,1.91,0,0,1,.58,1.4,1.91,1.91,0,0,1-.58,1.4L9.25,21ZM18.45,9,17,7.55Zm-12,3A5.31,5.31,0,0,0,4.9,8.1,5.31,5.31,0,0,0,1,6.5,5.31,5.31,0,0,0,4.9,4.9,5.31,5.31,0,0,0,6.5,1,5.31,5.31,0,0,0,8.1,4.9,5.31,5.31,0,0,0,12,6.5,5.46,5.46,0,0,0,6.5,12Z\"/>\n",
              "  </svg>\n",
              "    </button>\n",
              "    <script>\n",
              "      (() => {\n",
              "      const buttonEl =\n",
              "        document.querySelector('#id_30686a22-3809-436d-bf8c-03487551bb72 button.colab-df-generate');\n",
              "      buttonEl.style.display =\n",
              "        google.colab.kernel.accessAllowed ? 'block' : 'none';\n",
              "\n",
              "      buttonEl.onclick = () => {\n",
              "        google.colab.notebook.generateWithVariable('data');\n",
              "      }\n",
              "      })();\n",
              "    </script>\n",
              "  </div>\n",
              "\n",
              "    </div>\n",
              "  </div>\n"
            ],
            "application/vnd.google.colaboratory.intrinsic+json": {
              "type": "dataframe",
              "variable_name": "data",
              "summary": "{\n  \"name\": \"data\",\n  \"rows\": 134,\n  \"fields\": [\n    {\n      \"column\": \"spy_adj_close\",\n      \"properties\": {\n        \"dtype\": \"number\",\n        \"std\": 26.82765077278493,\n        \"min\": 221.973190307617,\n        \"max\": 334.888397216797,\n        \"num_unique_values\": 133,\n        \"samples\": [\n          237.551620483398,\n          282.546630859375,\n          334.888397216797\n        ],\n        \"semantic_type\": \"\",\n        \"description\": \"\"\n      }\n    },\n    {\n      \"column\": \"aapl_adj_close\",\n      \"properties\": {\n        \"dtype\": \"number\",\n        \"std\": 37.3193524688411,\n        \"min\": 223.764266967773,\n        \"max\": 390.899993896484,\n        \"num_unique_values\": 133,\n        \"samples\": [\n          246.00407409668,\n          286.275054931641,\n          322.746337890625\n        ],\n        \"semantic_type\": \"\",\n        \"description\": \"\"\n      }\n    },\n    {\n      \"column\": \"spy_daily_return_%\",\n      \"properties\": {\n        \"dtype\": \"number\",\n        \"std\": 0.02724878659615489,\n        \"min\": -0.10942372612033846,\n        \"max\": 0.0906032658439917,\n        \"num_unique_values\": 134,\n        \"samples\": [\n          -0.010313796371464456,\n          0.03356838536664242,\n          0.013308214608889646\n        ],\n        \"semantic_type\": \"\",\n        \"description\": \"\"\n      }\n    },\n    {\n      \"column\": \"aapl_daily_return_%\",\n      \"properties\": {\n        \"dtype\": \"number\",\n        \"std\": 0.032339188517779796,\n        \"min\": -0.12864694811089883,\n        \"max\": 0.1198082504878697,\n        \"num_unique_values\": 134,\n        \"samples\": [\n          -0.0031028584811332305,\n          0.0255946767016757,\n          0.005505037420229675\n        ],\n        \"semantic_type\": \"\",\n        \"description\": \"\"\n      }\n    }\n  ]\n}"
            }
          },
          "metadata": {},
          "execution_count": 4
        }
      ],
      "source": [
        "data[\"spy_daily_return_%\"] = data[\"spy_adj_close\"].pct_change() # Creates a new column with the daily percent change in the SPY closing price\n",
        "data[\"aapl_daily_return_%\"] = data[\"aapl_adj_close\"].pct_change() # Creates a new column with the daily percent change in the AAPL closing price\n",
        "\n",
        "data = data.drop([0]) # Drops the first row from the dataframe with NaN values for the daily return columns\n",
        "data # Displays updated dataframe"
      ]
    },
    {
      "cell_type": "markdown",
      "metadata": {
        "id": "qA51CJQUf1pi"
      },
      "source": [
        "6.  Save the SPY and AAPL returns into separate numpy arrays.  \n",
        "Print the first five values from each of the two arrays.\n"
      ]
    },
    {
      "cell_type": "code",
      "execution_count": 5,
      "metadata": {
        "colab": {
          "base_uri": "https://localhost:8080/"
        },
        "id": "uTx4aa7of1pi",
        "outputId": "9c53a6d6-558f-47fb-9a6f-e19844bca846"
      },
      "outputs": [
        {
          "output_type": "stream",
          "name": "stdout",
          "text": [
            "[-0.00757217  0.00381507 -0.0028118   0.00532953  0.00678059]\n",
            "[-0.00972206  0.00796825 -0.00470303  0.01608619  0.02124092]\n"
          ]
        }
      ],
      "source": [
        "spy_array = data['spy_daily_return_%'].values # Converts the daily return for SPY into a numpy array using .values command\n",
        "aapl_array = data['aapl_daily_return_%'].values\n",
        "print(spy_array[0:5]) # Prints first 5 values of spy array\n",
        "print(aapl_array[0:5])"
      ]
    },
    {
      "cell_type": "markdown",
      "metadata": {
        "id": "SO4C0unXf1pi"
      },
      "source": [
        "7.  Make arrays (one for SPY, one for AAPL) containing the *excess* returns by subtracting the constant $R_f$ from the returns.  \n",
        "(Recall that $R_f$ is the \"risk-free rate\" meaning essentially that you could earn this much in interest if you didn't invest in anything.)  \n",
        "Print the LAST five excess returns from both SPY and AAPL numpy arrays."
      ]
    },
    {
      "cell_type": "code",
      "execution_count": 6,
      "metadata": {
        "colab": {
          "base_uri": "https://localhost:8080/"
        },
        "id": "o8XOunw5f1pi",
        "outputId": "066a52e4-c9d8-4ebd-895f-4c32815de185"
      },
      "outputs": [
        {
          "output_type": "stream",
          "name": "stdout",
          "text": [
            "last 5 spy excess returns: [-0.00576237  0.0101411  -0.00872841  0.01288957  0.00911779]\n",
            "last 5 aapl excess returns: [ 0.00423088  0.00167981 -0.00468264  0.01647898  0.00680788]\n"
          ]
        }
      ],
      "source": [
        "spy_excess = spy_array - R_f # Creates a new spy_excess array by subtracting R_f from each value in spy_array\n",
        "aapl_excess = aapl_array - R_f\n",
        "print('last 5 spy excess returns:', spy_excess[-5:]) # Prints last 5 values of spy_excess\n",
        "print('last 5 aapl excess returns:', aapl_excess[-5:]) # Prints last 5 values for aapl_excess\n",
        "\n",
        "\n"
      ]
    },
    {
      "cell_type": "markdown",
      "metadata": {
        "id": "-DUdB1GGf1pi"
      },
      "source": [
        "8. Make a scatterplot with SPY excess returns on the $x$-axis and AAPL excess returns on the $y$-axis.  \n",
        "If you need it, here is the [Matplotlib documentation]( https://matplotlib.org/stable/api/_as_gen/matplotlib.pyplot.scatter.html)."
      ]
    },
    {
      "cell_type": "code",
      "execution_count": 7,
      "metadata": {
        "colab": {
          "base_uri": "https://localhost:8080/",
          "height": 490
        },
        "id": "ucDTjQOmf1pi",
        "outputId": "5637e548-2e10-4570-9ba1-0626432abc1e"
      },
      "outputs": [
        {
          "output_type": "execute_result",
          "data": {
            "text/plain": [
              "Text(0, 0.5, 'Excess AAPL Returns (%)')"
            ]
          },
          "metadata": {},
          "execution_count": 7
        },
        {
          "output_type": "display_data",
          "data": {
            "text/plain": [
              "<Figure size 640x480 with 1 Axes>"
            ],
            "image/png": "[encoded data removed]"
          },
          "metadata": {}
        }
      ],
      "source": [
        "import matplotlib.pyplot as plt # Imports relevant package\n",
        "plt.scatter(spy_excess, aapl_excess) # Creates a scatterplot with spy_excess as x axis, aapl_excess as y axis\n",
        "plt.title('SPY vs. AAPL Returns') # Gives title to graph\n",
        "plt.xlabel('Excess SPY Returns (%)') # X axis title\n",
        "plt.ylabel('Excess AAPL Returns (%)') # Y axis title"
      ]
    },
    {
      "cell_type": "markdown",
      "metadata": {
        "id": "LCJPl-d9f1pi"
      },
      "source": [
        "The value of $\\beta_A$ is computed from the arrays you built in problem 7, via a formula that uses some statistical functions called the \"variance\" and the \"covariance.\"\n",
        "\n",
        "Any individual 1-d array of numbers has a variance, which you can compute using `numpy`'s function `var()` (documented [here](https://numpy.org/doc/stable/reference/generated/numpy.var.html)).  This is a number.\n",
        "\n",
        "If you have two 1-d arrays of the same length, they collectively have something called a covariance which `numpy` also can compute using `cov()` (documented [here](https://numpy.org/doc/stable/reference/generated/numpy.cov.html)).\n",
        "\n",
        "The covariance is also a number, but look at what happens when you send two 1-d arrays to `cov()`: it returns a $2\\times 2$ matrix.  (Try it!)  The covariance we are looking for is the number that lives in both the top right and the bottom left of this matrix.  (Those two numbers should be the same.)  The top left and bottom right entries of the covariance matrix also have meaning, but we don't need them.\n",
        "\n"
      ]
    },
    {
      "cell_type": "markdown",
      "metadata": {
        "id": "bb0j7Vi7quGp"
      },
      "source": [
        "9. Use `numpy` functions as described above to compute the estimate of $\\beta_A$, using the following formula:  \n",
        "\\begin{aligned} \\beta_A= \\frac{ \\text{cov}(A,SP) }{ \\text{var}(SP) } \\end{aligned}\n",
        "In our context, A will be the 1-d array you made in problem 7 for AAPL, and SP will be the 1-d array you made for SPY."
      ]
    },
    {
      "cell_type": "code",
      "execution_count": 8,
      "metadata": {
        "colab": {
          "base_uri": "https://localhost:8080/"
        },
        "id": "blGso0pMf1pj",
        "outputId": "6dbf16c5-220c-4102-eec8-3a6c8a2dc4a1"
      },
      "outputs": [
        {
          "output_type": "execute_result",
          "data": {
            "text/plain": [
              "1.0956172644197222"
            ]
          },
          "metadata": {},
          "execution_count": 8
        }
      ],
      "source": [
        "covariance = np.cov(aapl_excess, spy_excess)[0,1] # Calculates covariance between aapl_excess and spy_excess as .00080742 and assigns it to covariance variable. [0,1] used to get value of second column and 1st row.\n",
        "variance = np.var(spy_excess) # Calculates variance of spy_excess as .00073695\n",
        "B_a = covariance / variance # Calculates B_a by dividing covariance(A, SP) by variance(SP)\n",
        "B_a # Displays B_a"
      ]
    },
    {
      "cell_type": "markdown",
      "metadata": {
        "id": "02POpgABf1pj"
      },
      "source": [
        "You should have found that the beta estimate is greater than one.  \n",
        "This means that the volatility of AAPL stock, given the data, and according to this particular (flawed) model,\n",
        "is higher than the volatility of the S&P 500.\n",
        "\n",
        "Bonus:  Is this something you can see on the plot you made?\n",
        "\n"
      ]
    },
    {
      "cell_type": "markdown",
      "metadata": {
        "id": "aeLasrWag1S4"
      },
      "source": [
        "Yes, you can see that the volatility for the AAPL stock is greater than the volatility of SPY from the scatterplot. The excess return values for AAPL range from about -.14 to .14, while the excess return values for SPY only range from about -.13 to .9.\n",
        "\n",
        "Additionally, the graph automatically uses smaller distances between tick marks for the SPY values (.025) than the AAPL values (.05), and this also indicates smaller volatility for the SPY values compared to the AAPL values.\n"
      ]
    },
    {
      "cell_type": "markdown",
      "metadata": {
        "id": "5jCGs8igf1pj"
      },
      "source": [
        "Finally, let's look at how sensitive the beta is to each data point.   \n",
        "We want to drop each data point (one at a time), compute \\\\(\\hat\\beta_i\\\\) using our formula from above, and save each measurement.\n",
        "\n",
        "This is called *jackknifing*.\n",
        "\n"
      ]
    },
    {
      "cell_type": "markdown",
      "metadata": {
        "id": "VhlkawRDeV8Z"
      },
      "source": [
        "10. Write a function called `beta_sensitivity()` with these specs:\n",
        "\n",
        "- take numpy arrays `x` and `y` as inputs\n",
        "- outputs a list of tuples, so that each tuple contains (observation row dropped, beta estimate)\n",
        "\n",
        "Hint: **np.delete(x, i).reshape(-1,1)** will delete observation i from array x, and make it a column vector"
      ]
    },
    {
      "cell_type": "code",
      "execution_count": 9,
      "metadata": {
        "id": "LyT1XSF8f1pj"
      },
      "outputs": [],
      "source": [
        "def beta_sensitivity(x, y): # Defines function\n",
        "  values = [] # Creates empty 'values' list to later append\n",
        "  for i in range(len(x)): # iterates through each i in the length of x array\n",
        "    x_local = np.delete(x,i).reshape(-1,1) # deletes observation i from array x, and makes it a column vector. Assigns to local_x variable\n",
        "    y_local = np.delete(y,i).reshape(-1,1) # deletes observation i from array y, and makes it a column vector. Assigns to local_y variable\n",
        "    covariance1 = np.cov(np.concatenate((x_local, y_local), axis=1), rowvar=False)[0, 1]\n",
        "    # Creates a covariance variable for beta calculation. np.cov used for covariance. np.cocatenate used to combine local_x and local_y\n",
        "    # axis = 1 makes concatenation along axis 1. rowvar = False makes it so that each column, rather than row, is a variable. [0,1] takes value from 2nd column of 1st row of covariance matrix\n",
        "    variance1 = np.var(y) # gets variance of y array\n",
        "    updated_beta = covariance1 / variance1 # beta calculation\n",
        "    values.append((i, updated_beta)) # appends values list with i and updated_beta calculation in tuple form\n",
        "  return values # values list returned after for loop\n"
      ]
    },
    {
      "cell_type": "markdown",
      "metadata": {
        "id": "L9u4bfjtf1pj"
      },
      "source": [
        "11. Call `beta_sensitivity()` on the arrays A and SP from earlier and print the first ten tuples of output."
      ]
    },
    {
      "cell_type": "code",
      "execution_count": 10,
      "metadata": {
        "id": "vaz9ozp6f1pj",
        "colab": {
          "base_uri": "https://localhost:8080/"
        },
        "outputId": "6e86a180-4fa6-4159-8c51-8b0f4ab270bc"
      },
      "outputs": [
        {
          "output_type": "execute_result",
          "data": {
            "text/plain": [
              "[(0, 1.1029086783863766),\n",
              " (1, 1.1037237509595221),\n",
              " (2, 1.103678464865672),\n",
              " (3, 1.103222167223882),\n",
              " (4, 1.1026766186561043),\n",
              " (5, 1.1039084109777846),\n",
              " (6, 1.1026495382779609),\n",
              " (7, 1.1036013459124216),\n",
              " (8, 1.1040501023620306),\n",
              " (9, 1.1030951386265953)]"
            ]
          },
          "metadata": {},
          "execution_count": 10
        }
      ],
      "source": [
        "beta_sensitivity(aapl_excess, spy_excess)[:10] # [:10] displays first 10 results\n"
      ]
    }
  ],
  "metadata": {
    "colab": {
      "provenance": [],
      "include_colab_link": true
    },
    "kernelspec": {
      "display_name": "Python 3.8.9 64-bit",
      "language": "python",
      "name": "python3"
    },
    "language_info": {
      "codemirror_mode": {
        "name": "ipython",
        "version": 3
      },
      "file_extension": ".py",
      "mimetype": "text/x-python",
      "name": "python",
      "nbconvert_exporter": "python",
      "pygments_lexer": "ipython3",
      "version": "3.8.9"
    },
    "vscode": {
      "interpreter": {
        "hash": "31f2aee4e71d21fbe5cf8b01ff0e069b9275f58929596ceb00d14d90e3e16cd6"
      }
    }
  },
  "nbformat": 4,
  "nbformat_minor": 0
}